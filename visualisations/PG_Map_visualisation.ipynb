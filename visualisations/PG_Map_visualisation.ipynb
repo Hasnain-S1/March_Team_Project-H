{
  "cells": [
    {
      "cell_type": "code",
      "execution_count": null,
      "metadata": {},
      "outputs": [],
      "source": []
    },
    {
      "cell_type": "code",
      "execution_count": 1,
      "metadata": {},
      "outputs": [
        {
          "ename": "ModuleNotFoundError",
          "evalue": "No module named 'folium'",
          "output_type": "error",
          "traceback": [
            "\u001b[31m---------------------------------------------------------------------------\u001b[39m",
            "\u001b[31mModuleNotFoundError\u001b[39m                       Traceback (most recent call last)",
            "\u001b[36mCell\u001b[39m\u001b[36m \u001b[39m\u001b[32mIn[1]\u001b[39m\u001b[32m, line 3\u001b[39m\n\u001b[32m      1\u001b[39m \u001b[38;5;28;01mimport\u001b[39;00m\u001b[38;5;250m \u001b[39m\u001b[34;01mstreamlit\u001b[39;00m\u001b[38;5;250m \u001b[39m\u001b[38;5;28;01mas\u001b[39;00m\u001b[38;5;250m \u001b[39m\u001b[34;01mst\u001b[39;00m\n\u001b[32m      2\u001b[39m \u001b[38;5;28;01mimport\u001b[39;00m\u001b[38;5;250m \u001b[39m\u001b[34;01mpandas\u001b[39;00m\u001b[38;5;250m \u001b[39m\u001b[38;5;28;01mas\u001b[39;00m\u001b[38;5;250m \u001b[39m\u001b[34;01mpd\u001b[39;00m\n\u001b[32m----> \u001b[39m\u001b[32m3\u001b[39m \u001b[38;5;28;01mimport\u001b[39;00m\u001b[38;5;250m \u001b[39m\u001b[34;01mfolium\u001b[39;00m\n\u001b[32m      4\u001b[39m \u001b[38;5;28;01mfrom\u001b[39;00m\u001b[38;5;250m \u001b[39m\u001b[34;01mfolium\u001b[39;00m\u001b[34;01m.\u001b[39;00m\u001b[34;01mplugins\u001b[39;00m\u001b[38;5;250m \u001b[39m\u001b[38;5;28;01mimport\u001b[39;00m MarkerCluster\n\u001b[32m      5\u001b[39m \u001b[38;5;28;01mfrom\u001b[39;00m\u001b[38;5;250m \u001b[39m\u001b[34;01mstreamlit_folium\u001b[39;00m\u001b[38;5;250m \u001b[39m\u001b[38;5;28;01mimport\u001b[39;00m st_folium\n",
            "\u001b[31mModuleNotFoundError\u001b[39m: No module named 'folium'"
          ]
        }
      ],
      "source": [
        "import streamlit as st\n",
        "import pandas as pd\n",
        "import folium\n",
        "from folium.plugins import MarkerCluster\n",
        "from streamlit_folium import st_folium\n",
        "\n",
        "# Load data\n",
        "df = pd.read_csv(\"DashBoardData.csv\", parse_dates=[\"Date\"])\n",
        "\n",
        "# Streamlit UI\n",
        "st.title(\"Air Quality Map with Filters\")\n",
        "\n",
        "# Sidebar filters\n",
        "date_range = st.sidebar.date_input(\"Select Date Range\", [df[\"Date\"].min(), df[\"Date\"].max()])\n",
        "measure = st.sidebar.selectbox(\"Select AQI Measure\", [\"NO2\", \"CO\", \"SO2\", \"O3\"])\n",
        "\n",
        "# Filter data by date range\n",
        "start_date, end_date = pd.to_datetime(date_range[0]), pd.to_datetime(date_range[1])\n",
        "df_filtered = df[(df[\"Date\"] >= start_date) & (df[\"Date\"] <= end_date)]\n",
        "\n",
        "# Create map\n",
        "m = folium.Map(location=[39.5, -98.35], zoom_start=4)\n",
        "marker_cluster = MarkerCluster().add_to(m)\n",
        "\n",
        "# Color map for AQI levels\n",
        "def get_color(aqi_group):\n",
        "    return {\n",
        "        1: \"green\",\n",
        "        2: \"yellow\",\n",
        "        3: \"orange\",\n",
        "        4: \"red\",\n",
        "        5: \"purple\",\n",
        "        6: \"maroon\"\n",
        "    }.get(aqi_group, \"gray\")\n",
        "\n",
        "# Choose AQI column based on measure\n",
        "aqicol = f\"{measure}_AQI_Group\"\n",
        "\n",
        "# Plot filtered data\n",
        "for _, row in df_filtered.iterrows():\n",
        "    location = [row.get(\"Latitude\", 0), row.get(\"Longitude\", 0)]\n",
        "    if location == [0, 0]:\n",
        "        continue  # Skip if location missing\n",
        "    label = f\"{row['City']}, {row['State']}\\n{measure} AQI Group: {row[aqicol]}\"\n",
        "    color = get_color(row[aqicol])\n",
        "    folium.Marker(\n",
        "        location=location,\n",
        "        popup=label,\n",
        "        icon=folium.Icon(color=color)\n",
        "    ).add_to(marker_cluster)\n",
        "\n",
        "# Render map in Streamlit\n",
        "st_folium(m, width=725, height=500)\n"
      ]
    }
  ],
  "metadata": {
    "kernelspec": {
      "display_name": ".venv",
      "language": "python",
      "name": "python3"
    },
    "language_info": {
      "codemirror_mode": {
        "name": "ipython",
        "version": 3
      },
      "file_extension": ".py",
      "mimetype": "text/x-python",
      "name": "python",
      "nbconvert_exporter": "python",
      "pygments_lexer": "ipython3",
      "version": "3.12.2"
    }
  },
  "nbformat": 4,
  "nbformat_minor": 2
}
