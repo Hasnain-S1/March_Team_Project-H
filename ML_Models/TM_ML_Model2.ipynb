{
 "cells": [
  {
   "cell_type": "markdown",
   "id": "1a828b95",
   "metadata": {},
   "source": [
    "# CO AQI Forecasting using Machine Learning\n",
    "This notebook builds a machine learning model to forecast CO AQI levels using available environmental data."
   ]
  },
  {
   "cell_type": "code",
   "execution_count": 1,
   "id": "52945c73",
   "metadata": {},
   "outputs": [],
   "source": [
    "# Import necessary libraries\n",
    "import pandas as pd\n",
    "import numpy as np\n",
    "import matplotlib.pyplot as plt\n",
    "import seaborn as sns\n",
    "from sklearn.model_selection import train_test_split\n",
    "from sklearn.preprocessing import StandardScaler\n",
    "from sklearn.linear_model import LinearRegression\n",
    "from sklearn.metrics import mean_squared_error, r2_score\n"
   ]
  },
  {
   "cell_type": "code",
   "execution_count": 2,
   "id": "741dcd95",
   "metadata": {},
   "outputs": [
    {
     "name": "stdout",
     "output_type": "stream",
     "text": [
      "Current directory: c:\\Users\\tmqhu\\Documents\\March_Team_Project\\ML_Models\n",
      "New working directory: C:\\Users\\tmqhu\\Documents\\March_Team_Project\n"
     ]
    }
   ],
   "source": [
    "import os  # Import the OS module\n",
    "\n",
    "current_dir = os.getcwd()  # Get current directory\n",
    "print(\"Current directory:\", current_dir)\n",
    "\n",
    "# Change to the desired working directory\n",
    "os.chdir(r\"C:\\Users\\tmqhu\\Documents\\March_Team_Project\")  # Use raw string\n",
    "\n",
    "# Confirm the change\n",
    "current_dir = os.getcwd()\n",
    "print(\"New working directory:\", current_dir)\n"
   ]
  },
  {
   "cell_type": "code",
   "execution_count": 3,
   "id": "ea4f2170",
   "metadata": {},
   "outputs": [
    {
     "data": {
      "text/html": [
       "<div>\n",
       "<style scoped>\n",
       "    .dataframe tbody tr th:only-of-type {\n",
       "        vertical-align: middle;\n",
       "    }\n",
       "\n",
       "    .dataframe tbody tr th {\n",
       "        vertical-align: top;\n",
       "    }\n",
       "\n",
       "    .dataframe thead th {\n",
       "        text-align: right;\n",
       "    }\n",
       "</style>\n",
       "<table border=\"1\" class=\"dataframe\">\n",
       "  <thead>\n",
       "    <tr style=\"text-align: right;\">\n",
       "      <th></th>\n",
       "      <th>State Code</th>\n",
       "      <th>County Code</th>\n",
       "      <th>Site Num</th>\n",
       "      <th>Address</th>\n",
       "      <th>State</th>\n",
       "      <th>County</th>\n",
       "      <th>City</th>\n",
       "      <th>Date</th>\n",
       "      <th>NO2 Units</th>\n",
       "      <th>NO2 Mean</th>\n",
       "      <th>...</th>\n",
       "      <th>O3_AQI_Group</th>\n",
       "      <th>SO2_AQI_Range</th>\n",
       "      <th>SO2_AQI_Range_Description</th>\n",
       "      <th>SO2_AQI_Group</th>\n",
       "      <th>CO_AQI_Range</th>\n",
       "      <th>CO_AQI_Range_Description</th>\n",
       "      <th>CO_AQI_Group</th>\n",
       "      <th>NO2_AQI_Range</th>\n",
       "      <th>NO2_AQI_Range_Description</th>\n",
       "      <th>NO2_AQI_Group</th>\n",
       "    </tr>\n",
       "  </thead>\n",
       "  <tbody>\n",
       "    <tr>\n",
       "      <th>0</th>\n",
       "      <td>22</td>\n",
       "      <td>33</td>\n",
       "      <td>9</td>\n",
       "      <td>1061-A Leesville Ave</td>\n",
       "      <td>Louisiana</td>\n",
       "      <td>East Baton Rouge</td>\n",
       "      <td>BATON ROUGE</td>\n",
       "      <td>2003-01-01</td>\n",
       "      <td>Parts per billion</td>\n",
       "      <td>14.652174</td>\n",
       "      <td>...</td>\n",
       "      <td>1</td>\n",
       "      <td>Good</td>\n",
       "      <td>Air quality is considered satisfactory, and ai...</td>\n",
       "      <td>1</td>\n",
       "      <td>Good</td>\n",
       "      <td>Air quality is considered satisfactory, and ai...</td>\n",
       "      <td>1</td>\n",
       "      <td>Good</td>\n",
       "      <td>Air quality is considered satisfactory, and ai...</td>\n",
       "      <td>1</td>\n",
       "    </tr>\n",
       "    <tr>\n",
       "      <th>1</th>\n",
       "      <td>25</td>\n",
       "      <td>25</td>\n",
       "      <td>42</td>\n",
       "      <td>HARRISON AVE</td>\n",
       "      <td>Massachusetts</td>\n",
       "      <td>Suffolk</td>\n",
       "      <td>BOSTON</td>\n",
       "      <td>2003-01-01</td>\n",
       "      <td>Parts per billion</td>\n",
       "      <td>23.363636</td>\n",
       "      <td>...</td>\n",
       "      <td>1</td>\n",
       "      <td>Good</td>\n",
       "      <td>Air quality is considered satisfactory, and ai...</td>\n",
       "      <td>1</td>\n",
       "      <td>Good</td>\n",
       "      <td>Air quality is considered satisfactory, and ai...</td>\n",
       "      <td>1</td>\n",
       "      <td>Good</td>\n",
       "      <td>Air quality is considered satisfactory, and ai...</td>\n",
       "      <td>1</td>\n",
       "    </tr>\n",
       "    <tr>\n",
       "      <th>2</th>\n",
       "      <td>34</td>\n",
       "      <td>7</td>\n",
       "      <td>3</td>\n",
       "      <td>COPEWOOD E. DAVIS STS; TRAILER</td>\n",
       "      <td>New Jersey</td>\n",
       "      <td>Camden</td>\n",
       "      <td>CAMDEN</td>\n",
       "      <td>2003-01-01</td>\n",
       "      <td>Parts per billion</td>\n",
       "      <td>32.750000</td>\n",
       "      <td>...</td>\n",
       "      <td>1</td>\n",
       "      <td>Good</td>\n",
       "      <td>Air quality is considered satisfactory, and ai...</td>\n",
       "      <td>1</td>\n",
       "      <td>Good</td>\n",
       "      <td>Air quality is considered satisfactory, and ai...</td>\n",
       "      <td>1</td>\n",
       "      <td>Good</td>\n",
       "      <td>Air quality is considered satisfactory, and ai...</td>\n",
       "      <td>1</td>\n",
       "    </tr>\n",
       "    <tr>\n",
       "      <th>3</th>\n",
       "      <td>6</td>\n",
       "      <td>13</td>\n",
       "      <td>2</td>\n",
       "      <td>2956-A TREAT BOULEVARD</td>\n",
       "      <td>California</td>\n",
       "      <td>Contra Costa</td>\n",
       "      <td>CONCORD</td>\n",
       "      <td>2003-01-01</td>\n",
       "      <td>Parts per billion</td>\n",
       "      <td>12.913043</td>\n",
       "      <td>...</td>\n",
       "      <td>1</td>\n",
       "      <td>Good</td>\n",
       "      <td>Air quality is considered satisfactory, and ai...</td>\n",
       "      <td>1</td>\n",
       "      <td>Good</td>\n",
       "      <td>Air quality is considered satisfactory, and ai...</td>\n",
       "      <td>1</td>\n",
       "      <td>Good</td>\n",
       "      <td>Air quality is considered satisfactory, and ai...</td>\n",
       "      <td>1</td>\n",
       "    </tr>\n",
       "    <tr>\n",
       "      <th>4</th>\n",
       "      <td>48</td>\n",
       "      <td>113</td>\n",
       "      <td>69</td>\n",
       "      <td>1415 Hinton Street</td>\n",
       "      <td>Texas</td>\n",
       "      <td>Dallas</td>\n",
       "      <td>DALLAS</td>\n",
       "      <td>2003-01-01</td>\n",
       "      <td>Parts per billion</td>\n",
       "      <td>18.583333</td>\n",
       "      <td>...</td>\n",
       "      <td>1</td>\n",
       "      <td>Good</td>\n",
       "      <td>Air quality is considered satisfactory, and ai...</td>\n",
       "      <td>1</td>\n",
       "      <td>Good</td>\n",
       "      <td>Air quality is considered satisfactory, and ai...</td>\n",
       "      <td>1</td>\n",
       "      <td>Moderate</td>\n",
       "      <td>Air quality is acceptable; however, for some p...</td>\n",
       "      <td>2</td>\n",
       "    </tr>\n",
       "  </tbody>\n",
       "</table>\n",
       "<p>5 rows × 71 columns</p>\n",
       "</div>"
      ],
      "text/plain": [
       "   State Code  County Code  Site Num                         Address  \\\n",
       "0          22           33         9            1061-A Leesville Ave   \n",
       "1          25           25        42                    HARRISON AVE   \n",
       "2          34            7         3  COPEWOOD E. DAVIS STS; TRAILER   \n",
       "3           6           13         2          2956-A TREAT BOULEVARD   \n",
       "4          48          113        69              1415 Hinton Street   \n",
       "\n",
       "           State            County         City        Date  \\\n",
       "0      Louisiana  East Baton Rouge  BATON ROUGE  2003-01-01   \n",
       "1  Massachusetts           Suffolk       BOSTON  2003-01-01   \n",
       "2     New Jersey            Camden       CAMDEN  2003-01-01   \n",
       "3     California      Contra Costa      CONCORD  2003-01-01   \n",
       "4          Texas            Dallas       DALLAS  2003-01-01   \n",
       "\n",
       "           NO2 Units   NO2 Mean  ...  O3_AQI_Group  SO2_AQI_Range  \\\n",
       "0  Parts per billion  14.652174  ...             1           Good   \n",
       "1  Parts per billion  23.363636  ...             1           Good   \n",
       "2  Parts per billion  32.750000  ...             1           Good   \n",
       "3  Parts per billion  12.913043  ...             1           Good   \n",
       "4  Parts per billion  18.583333  ...             1           Good   \n",
       "\n",
       "                           SO2_AQI_Range_Description SO2_AQI_Group  \\\n",
       "0  Air quality is considered satisfactory, and ai...             1   \n",
       "1  Air quality is considered satisfactory, and ai...             1   \n",
       "2  Air quality is considered satisfactory, and ai...             1   \n",
       "3  Air quality is considered satisfactory, and ai...             1   \n",
       "4  Air quality is considered satisfactory, and ai...             1   \n",
       "\n",
       "   CO_AQI_Range                           CO_AQI_Range_Description  \\\n",
       "0          Good  Air quality is considered satisfactory, and ai...   \n",
       "1          Good  Air quality is considered satisfactory, and ai...   \n",
       "2          Good  Air quality is considered satisfactory, and ai...   \n",
       "3          Good  Air quality is considered satisfactory, and ai...   \n",
       "4          Good  Air quality is considered satisfactory, and ai...   \n",
       "\n",
       "   CO_AQI_Group  NO2_AQI_Range  \\\n",
       "0             1           Good   \n",
       "1             1           Good   \n",
       "2             1           Good   \n",
       "3             1           Good   \n",
       "4             1       Moderate   \n",
       "\n",
       "                           NO2_AQI_Range_Description  NO2_AQI_Group  \n",
       "0  Air quality is considered satisfactory, and ai...              1  \n",
       "1  Air quality is considered satisfactory, and ai...              1  \n",
       "2  Air quality is considered satisfactory, and ai...              1  \n",
       "3  Air quality is considered satisfactory, and ai...              1  \n",
       "4  Air quality is acceptable; however, for some p...              2  \n",
       "\n",
       "[5 rows x 71 columns]"
      ]
     },
     "execution_count": 3,
     "metadata": {},
     "output_type": "execute_result"
    }
   ],
   "source": [
    "# Load dataset\n",
    "file_path = 'Outputs/DashBoardData.zip'  # Update with the correct path\n",
    "df = pd.read_csv(file_path, compression='zip', low_memory=False)\n",
    "df.head()"
   ]
  },
  {
   "cell_type": "code",
   "execution_count": 4,
   "id": "f1fb8ea8",
   "metadata": {},
   "outputs": [],
   "source": [
    "# Select relevant features\n",
    "numeric_columns = df.select_dtypes(include=['float64', 'int64']).columns\n",
    "numeric_columns = numeric_columns.drop(['WS_Latitude', 'WS_Longitude'])  # Dropping unnecessary columns\n",
    "X = df[numeric_columns]\n",
    "y = df['CO AQI']  # Target variable\n"
   ]
  },
  {
   "cell_type": "code",
   "execution_count": 5,
   "id": "fb834dce",
   "metadata": {},
   "outputs": [],
   "source": [
    "# Split dataset into training and testing sets\n",
    "X_train, X_test, y_train, y_test = train_test_split(X, y, test_size=0.2, random_state=42)\n"
   ]
  },
  {
   "cell_type": "code",
   "execution_count": 6,
   "id": "0409fabb",
   "metadata": {},
   "outputs": [],
   "source": [
    "# Standardize the features\n",
    "scaler = StandardScaler()\n",
    "X_train_scaled = scaler.fit_transform(X_train)\n",
    "X_test_scaled = scaler.transform(X_test)\n"
   ]
  },
  {
   "cell_type": "code",
   "execution_count": 7,
   "id": "937729d0",
   "metadata": {},
   "outputs": [
    {
     "data": {
      "text/html": [
       "<style>#sk-container-id-1 {color: black;}#sk-container-id-1 pre{padding: 0;}#sk-container-id-1 div.sk-toggleable {background-color: white;}#sk-container-id-1 label.sk-toggleable__label {cursor: pointer;display: block;width: 100%;margin-bottom: 0;padding: 0.3em;box-sizing: border-box;text-align: center;}#sk-container-id-1 label.sk-toggleable__label-arrow:before {content: \"▸\";float: left;margin-right: 0.25em;color: #696969;}#sk-container-id-1 label.sk-toggleable__label-arrow:hover:before {color: black;}#sk-container-id-1 div.sk-estimator:hover label.sk-toggleable__label-arrow:before {color: black;}#sk-container-id-1 div.sk-toggleable__content {max-height: 0;max-width: 0;overflow: hidden;text-align: left;background-color: #f0f8ff;}#sk-container-id-1 div.sk-toggleable__content pre {margin: 0.2em;color: black;border-radius: 0.25em;background-color: #f0f8ff;}#sk-container-id-1 input.sk-toggleable__control:checked~div.sk-toggleable__content {max-height: 200px;max-width: 100%;overflow: auto;}#sk-container-id-1 input.sk-toggleable__control:checked~label.sk-toggleable__label-arrow:before {content: \"▾\";}#sk-container-id-1 div.sk-estimator input.sk-toggleable__control:checked~label.sk-toggleable__label {background-color: #d4ebff;}#sk-container-id-1 div.sk-label input.sk-toggleable__control:checked~label.sk-toggleable__label {background-color: #d4ebff;}#sk-container-id-1 input.sk-hidden--visually {border: 0;clip: rect(1px 1px 1px 1px);clip: rect(1px, 1px, 1px, 1px);height: 1px;margin: -1px;overflow: hidden;padding: 0;position: absolute;width: 1px;}#sk-container-id-1 div.sk-estimator {font-family: monospace;background-color: #f0f8ff;border: 1px dotted black;border-radius: 0.25em;box-sizing: border-box;margin-bottom: 0.5em;}#sk-container-id-1 div.sk-estimator:hover {background-color: #d4ebff;}#sk-container-id-1 div.sk-parallel-item::after {content: \"\";width: 100%;border-bottom: 1px solid gray;flex-grow: 1;}#sk-container-id-1 div.sk-label:hover label.sk-toggleable__label {background-color: #d4ebff;}#sk-container-id-1 div.sk-serial::before {content: \"\";position: absolute;border-left: 1px solid gray;box-sizing: border-box;top: 0;bottom: 0;left: 50%;z-index: 0;}#sk-container-id-1 div.sk-serial {display: flex;flex-direction: column;align-items: center;background-color: white;padding-right: 0.2em;padding-left: 0.2em;position: relative;}#sk-container-id-1 div.sk-item {position: relative;z-index: 1;}#sk-container-id-1 div.sk-parallel {display: flex;align-items: stretch;justify-content: center;background-color: white;position: relative;}#sk-container-id-1 div.sk-item::before, #sk-container-id-1 div.sk-parallel-item::before {content: \"\";position: absolute;border-left: 1px solid gray;box-sizing: border-box;top: 0;bottom: 0;left: 50%;z-index: -1;}#sk-container-id-1 div.sk-parallel-item {display: flex;flex-direction: column;z-index: 1;position: relative;background-color: white;}#sk-container-id-1 div.sk-parallel-item:first-child::after {align-self: flex-end;width: 50%;}#sk-container-id-1 div.sk-parallel-item:last-child::after {align-self: flex-start;width: 50%;}#sk-container-id-1 div.sk-parallel-item:only-child::after {width: 0;}#sk-container-id-1 div.sk-dashed-wrapped {border: 1px dashed gray;margin: 0 0.4em 0.5em 0.4em;box-sizing: border-box;padding-bottom: 0.4em;background-color: white;}#sk-container-id-1 div.sk-label label {font-family: monospace;font-weight: bold;display: inline-block;line-height: 1.2em;}#sk-container-id-1 div.sk-label-container {text-align: center;}#sk-container-id-1 div.sk-container {/* jupyter's `normalize.less` sets `[hidden] { display: none; }` but bootstrap.min.css set `[hidden] { display: none !important; }` so we also need the `!important` here to be able to override the default hidden behavior on the sphinx rendered scikit-learn.org. See: https://github.com/scikit-learn/scikit-learn/issues/21755 */display: inline-block !important;position: relative;}#sk-container-id-1 div.sk-text-repr-fallback {display: none;}</style><div id=\"sk-container-id-1\" class=\"sk-top-container\"><div class=\"sk-text-repr-fallback\"><pre>LinearRegression()</pre><b>In a Jupyter environment, please rerun this cell to show the HTML representation or trust the notebook. <br />On GitHub, the HTML representation is unable to render, please try loading this page with nbviewer.org.</b></div><div class=\"sk-container\" hidden><div class=\"sk-item\"><div class=\"sk-estimator sk-toggleable\"><input class=\"sk-toggleable__control sk-hidden--visually\" id=\"sk-estimator-id-1\" type=\"checkbox\" checked><label for=\"sk-estimator-id-1\" class=\"sk-toggleable__label sk-toggleable__label-arrow\">LinearRegression</label><div class=\"sk-toggleable__content\"><pre>LinearRegression()</pre></div></div></div></div></div>"
      ],
      "text/plain": [
       "LinearRegression()"
      ]
     },
     "execution_count": 7,
     "metadata": {},
     "output_type": "execute_result"
    }
   ],
   "source": [
    "# Train a Linear Regression model\n",
    "model = LinearRegression()\n",
    "model.fit(X_train_scaled, y_train)\n"
   ]
  },
  {
   "cell_type": "code",
   "execution_count": 8,
   "id": "f62c7319",
   "metadata": {},
   "outputs": [
    {
     "name": "stdout",
     "output_type": "stream",
     "text": [
      "Mean Squared Error: 1.762892155875462e-28\n",
      "R² Score: 1.0\n"
     ]
    }
   ],
   "source": [
    "# Make predictions\n",
    "y_pred = model.predict(X_test_scaled)\n",
    "mse = mean_squared_error(y_test, y_pred)\n",
    "r2 = r2_score(y_test, y_pred)\n",
    "print(f'Mean Squared Error: {mse}')\n",
    "print(f'R² Score: {r2}')"
   ]
  },
  {
   "cell_type": "code",
   "execution_count": 9,
   "id": "c7b89fb2",
   "metadata": {},
   "outputs": [
    {
     "data": {
      "image/png": "[encoded data removed]",
      "text/plain": [
       "<Figure size 800x600 with 1 Axes>"
      ]
     },
     "metadata": {},
     "output_type": "display_data"
    }
   ],
   "source": [
    "# Visualizing Predictions vs. Actual Values\n",
    "plt.figure(figsize=(8,6))\n",
    "sns.scatterplot(x=y_test, y=y_pred, alpha=0.6)\n",
    "plt.xlabel('Actual CO AQI')\n",
    "plt.ylabel('Predicted CO AQI')\n",
    "plt.title('Actual vs. Predicted CO AQI')\n",
    "plt.show()"
   ]
  },
  {
   "cell_type": "code",
   "execution_count": 10,
   "id": "5870affc",
   "metadata": {},
   "outputs": [
    {
     "name": "stdout",
     "output_type": "stream",
     "text": [
      "Model and scaler saved.\n"
     ]
    }
   ],
   "source": [
    "# Save the model\n",
    "import joblib\n",
    "joblib.dump(model, 'CO_AQI_Model.pkl')\n",
    "joblib.dump(scaler, 'Scaler.pkl')\n",
    "print('Model and scaler saved.')"
   ]
  }
 ],
 "metadata": {
  "kernelspec": {
   "display_name": "Python 3",
   "language": "python",
   "name": "python3"
  },
  "language_info": {
   "codemirror_mode": {
    "name": "ipython",
    "version": 3
   },
   "file_extension": ".py",
   "mimetype": "text/x-python",
   "name": "python",
   "nbconvert_exporter": "python",
   "pygments_lexer": "ipython3",
   "version": "3.12.8"
  }
 },
 "nbformat": 4,
 "nbformat_minor": 5
}
