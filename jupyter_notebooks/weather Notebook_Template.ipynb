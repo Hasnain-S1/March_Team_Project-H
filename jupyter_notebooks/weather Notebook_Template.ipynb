{
  "cells": [
    {
      "cell_type": "markdown",
      "metadata": {
        "id": "0aStgWSO0E0E"
      },
      "source": [
        "# **(ADD THE NOTEBOOK NAME HERE)**"
      ]
    },
    {
      "cell_type": "markdown",
      "metadata": {
        "id": "1eLEkw5O0ECa"
      },
      "source": [
        "## Objectives\n",
        "\n",
        "* Write your notebook objective here, for example, \"Fetch data from Kaggle and save as raw data\", or \"engineer features for modelling\"\n",
        "\n",
        "## Inputs\n",
        "\n",
        "* Write down which data or information you need to run the notebook \n",
        "\n",
        "## Outputs\n",
        "\n",
        "* Write here which files, code or artefacts you generate by the end of the notebook \n",
        "\n",
        "## Additional Comments\n",
        "\n",
        "* If you have any additional comments that don't fit in the previous bullets, please state them here. \n",
        "\n"
      ]
    },
    {
      "cell_type": "markdown",
      "metadata": {
        "id": "9uWZXH9LwoQg"
      },
      "source": [
        "---"
      ]
    },
    {
      "cell_type": "markdown",
      "metadata": {
        "id": "cqP-UeN-z3i2"
      },
      "source": [
        "# Change working directory"
      ]
    },
    {
      "cell_type": "markdown",
      "metadata": {},
      "source": [
        "* We are assuming you will store the notebooks in a subfolder, therefore when running the notebook in the editor, you will need to change the working directory"
      ]
    },
    {
      "cell_type": "markdown",
      "metadata": {
        "id": "aOGIGS-uz3i2"
      },
      "source": [
        "We need to change the working directory from its current folder to its parent folder\n",
        "* We access the current directory with os.getcwd()"
      ]
    },
    {
      "cell_type": "code",
      "execution_count": 1,
      "metadata": {
        "id": "wZfF_j-Bz3i4",
        "outputId": "66943449-1436-4c3d-85c7-b85f9f78349b"
      },
      "outputs": [
        {
          "data": {
            "text/plain": [
              "'h:\\\\VScode\\\\March Group\\\\March_Team_Project\\\\Not_to_be_shared_to_repo'"
            ]
          },
          "execution_count": 1,
          "metadata": {},
          "output_type": "execute_result"
        }
      ],
      "source": [
        "import os\n",
        "current_dir = os.getcwd()\n",
        "current_dir"
      ]
    },
    {
      "cell_type": "markdown",
      "metadata": {
        "id": "9MWW8E7lz3i7"
      },
      "source": [
        "We want to make the parent of the current directory the new current directory\n",
        "* os.path.dirname() gets the parent directory\n",
        "* os.chir() defines the new current directory"
      ]
    },
    {
      "cell_type": "code",
      "execution_count": 2,
      "metadata": {
        "id": "TwHsQRWjz3i9",
        "outputId": "86849db3-cd2f-4cc5-ebb8-2d0caafa1a2c"
      },
      "outputs": [
        {
          "name": "stdout",
          "output_type": "stream",
          "text": [
            "You set a new current directory\n"
          ]
        }
      ],
      "source": [
        "os.chdir(os.path.dirname(current_dir))\n",
        "print(\"You set a new current directory\")"
      ]
    },
    {
      "cell_type": "markdown",
      "metadata": {
        "id": "M_xPk_Ijz3i-"
      },
      "source": [
        "Confirm the new current directory"
      ]
    },
    {
      "cell_type": "code",
      "execution_count": 3,
      "metadata": {
        "id": "vz3S-_kjz3jA",
        "outputId": "00b79ae4-75d0-4a96-d193-ac9ef9847ea2"
      },
      "outputs": [
        {
          "data": {
            "text/plain": [
              "'h:\\\\VScode\\\\March Group\\\\March_Team_Project'"
            ]
          },
          "execution_count": 3,
          "metadata": {},
          "output_type": "execute_result"
        }
      ],
      "source": [
        "current_dir = os.getcwd()\n",
        "current_dir"
      ]
    },
    {
      "cell_type": "markdown",
      "metadata": {
        "id": "-mavJ8DibrcQ"
      },
      "source": [
        "# Section 1"
      ]
    },
    {
      "cell_type": "markdown",
      "metadata": {},
      "source": [
        "Section 1 content"
      ]
    },
    {
      "cell_type": "code",
      "execution_count": 4,
      "metadata": {},
      "outputs": [
        {
          "name": "stdout",
          "output_type": "stream",
          "text": [
            "<class 'pandas.core.frame.DataFrame'>\n",
            "RangeIndex: 34973736 entries, 0 to 34973735\n",
            "Data columns (total 8 columns):\n",
            " #   Column  Dtype  \n",
            "---  ------  -----  \n",
            " 0   0       object \n",
            " 1   1       int64  \n",
            " 2   2       object \n",
            " 3   3       int64  \n",
            " 4   4       object \n",
            " 5   5       object \n",
            " 6   6       object \n",
            " 7   7       float64\n",
            "dtypes: float64(1), int64(2), object(5)\n",
            "memory usage: 2.1+ GB\n"
          ]
        }
      ],
      "source": [
        "# load csv files from Not_to_be_shared_to_repo folder\n",
        "import pandas as pd\n",
        "# apply the following column names to the file, Station_ID, Date, DataValue, MFlag, QFlag, SFlag, ObsTime\n",
        "weather_df = pd.read_csv('Not_to_be_shared_to_repo/2000.csv.gz', header=None)\n",
        "weather_df.info()"
      ]
    },
    {
      "cell_type": "markdown",
      "metadata": {},
      "source": [
        "YEAR/MONTH/DAY = 8 character date in YYYYMMDD format (e.g. 19860529 = May 29, 1986)\n",
        "ELEMENT = 4 character indicator of element type \n",
        "DATA VALUE = 5 character data value for ELEMENT \n",
        "M-FLAG = 1 character Measurement Flag \n",
        "Q-FLAG = 1 character Quality Flag \n",
        "S-FLAG = 1 character Source Flag \n",
        "OBS-TIME = 4-character time of observation in hour-minute format (i.e. 0700 =7:00 am)"
      ]
    },
    {
      "cell_type": "code",
      "execution_count": 5,
      "metadata": {},
      "outputs": [],
      "source": [
        "weather_df.columns = [\"Station_ID\", \"Date\", \"Element\",\"DataValue\", \"MFlag\", \"QFlag\", \"SFlag\", \"ObsTime\"]"
      ]
    },
    {
      "cell_type": "code",
      "execution_count": 6,
      "metadata": {},
      "outputs": [
        {
          "data": {
            "application/vnd.microsoft.datawrangler.viewer.v0+json": {
              "columns": [
                {
                  "name": "index",
                  "rawType": "int64",
                  "type": "integer"
                },
                {
                  "name": "Station_ID",
                  "rawType": "object",
                  "type": "string"
                },
                {
                  "name": "Date",
                  "rawType": "int64",
                  "type": "integer"
                },
                {
                  "name": "Element",
                  "rawType": "object",
                  "type": "string"
                },
                {
                  "name": "DataValue",
                  "rawType": "int64",
                  "type": "integer"
                },
                {
                  "name": "MFlag",
                  "rawType": "object",
                  "type": "unknown"
                },
                {
                  "name": "QFlag",
                  "rawType": "object",
                  "type": "unknown"
                },
                {
                  "name": "SFlag",
                  "rawType": "object",
                  "type": "string"
                },
                {
                  "name": "ObsTime",
                  "rawType": "float64",
                  "type": "float"
                }
              ],
              "conversionMethod": "pd.DataFrame",
              "ref": "f55cea08-2e05-4eb6-b57a-8e9d76087c4d",
              "rows": [
                [
                  "0",
                  "AE000041196",
                  "20000101",
                  "TMAX",
                  "278",
                  null,
                  null,
                  "I",
                  null
                ],
                [
                  "1",
                  "AE000041196",
                  "20000101",
                  "TMIN",
                  "121",
                  null,
                  null,
                  "I",
                  null
                ],
                [
                  "2",
                  "AE000041196",
                  "20000101",
                  "TAVG",
                  "186",
                  "H",
                  null,
                  "S",
                  null
                ],
                [
                  "3",
                  "AEM00041194",
                  "20000101",
                  "TMAX",
                  "251",
                  null,
                  null,
                  "S",
                  null
                ],
                [
                  "4",
                  "AEM00041194",
                  "20000101",
                  "TMIN",
                  "135",
                  null,
                  null,
                  "S",
                  null
                ]
              ],
              "shape": {
                "columns": 8,
                "rows": 5
              }
            },
            "text/html": [
              "<div>\n",
              "<style scoped>\n",
              "    .dataframe tbody tr th:only-of-type {\n",
              "        vertical-align: middle;\n",
              "    }\n",
              "\n",
              "    .dataframe tbody tr th {\n",
              "        vertical-align: top;\n",
              "    }\n",
              "\n",
              "    .dataframe thead th {\n",
              "        text-align: right;\n",
              "    }\n",
              "</style>\n",
              "<table border=\"1\" class=\"dataframe\">\n",
              "  <thead>\n",
              "    <tr style=\"text-align: right;\">\n",
              "      <th></th>\n",
              "      <th>Station_ID</th>\n",
              "      <th>Date</th>\n",
              "      <th>Element</th>\n",
              "      <th>DataValue</th>\n",
              "      <th>MFlag</th>\n",
              "      <th>QFlag</th>\n",
              "      <th>SFlag</th>\n",
              "      <th>ObsTime</th>\n",
              "    </tr>\n",
              "  </thead>\n",
              "  <tbody>\n",
              "    <tr>\n",
              "      <th>0</th>\n",
              "      <td>AE000041196</td>\n",
              "      <td>20000101</td>\n",
              "      <td>TMAX</td>\n",
              "      <td>278</td>\n",
              "      <td>NaN</td>\n",
              "      <td>NaN</td>\n",
              "      <td>I</td>\n",
              "      <td>NaN</td>\n",
              "    </tr>\n",
              "    <tr>\n",
              "      <th>1</th>\n",
              "      <td>AE000041196</td>\n",
              "      <td>20000101</td>\n",
              "      <td>TMIN</td>\n",
              "      <td>121</td>\n",
              "      <td>NaN</td>\n",
              "      <td>NaN</td>\n",
              "      <td>I</td>\n",
              "      <td>NaN</td>\n",
              "    </tr>\n",
              "    <tr>\n",
              "      <th>2</th>\n",
              "      <td>AE000041196</td>\n",
              "      <td>20000101</td>\n",
              "      <td>TAVG</td>\n",
              "      <td>186</td>\n",
              "      <td>H</td>\n",
              "      <td>NaN</td>\n",
              "      <td>S</td>\n",
              "      <td>NaN</td>\n",
              "    </tr>\n",
              "    <tr>\n",
              "      <th>3</th>\n",
              "      <td>AEM00041194</td>\n",
              "      <td>20000101</td>\n",
              "      <td>TMAX</td>\n",
              "      <td>251</td>\n",
              "      <td>NaN</td>\n",
              "      <td>NaN</td>\n",
              "      <td>S</td>\n",
              "      <td>NaN</td>\n",
              "    </tr>\n",
              "    <tr>\n",
              "      <th>4</th>\n",
              "      <td>AEM00041194</td>\n",
              "      <td>20000101</td>\n",
              "      <td>TMIN</td>\n",
              "      <td>135</td>\n",
              "      <td>NaN</td>\n",
              "      <td>NaN</td>\n",
              "      <td>S</td>\n",
              "      <td>NaN</td>\n",
              "    </tr>\n",
              "  </tbody>\n",
              "</table>\n",
              "</div>"
            ],
            "text/plain": [
              "    Station_ID      Date Element  DataValue MFlag QFlag SFlag  ObsTime\n",
              "0  AE000041196  20000101    TMAX        278   NaN   NaN     I      NaN\n",
              "1  AE000041196  20000101    TMIN        121   NaN   NaN     I      NaN\n",
              "2  AE000041196  20000101    TAVG        186     H   NaN     S      NaN\n",
              "3  AEM00041194  20000101    TMAX        251   NaN   NaN     S      NaN\n",
              "4  AEM00041194  20000101    TMIN        135   NaN   NaN     S      NaN"
            ]
          },
          "execution_count": 6,
          "metadata": {},
          "output_type": "execute_result"
        }
      ],
      "source": [
        "# set the column names\n",
        "weather_df.head()"
      ]
    },
    {
      "cell_type": "code",
      "execution_count": 7,
      "metadata": {},
      "outputs": [],
      "source": [
        "# load the ghcnd-stations.txt file - fixed width file no header\n",
        "stations_df = pd.read_fwf('Source_Data/ghcnd-stations.txt', header=None)\n",
        "stations_df.columns = [ \"StationId\",\"Latitude\", \"Longitude\", \"Elevation\", \"Name\", \"GSN_Flag\", \"HCN_CRN_Flag\", \"WMO_ID\"]\n",
        "# Drop GSN_Flag, HCN_CRN_Flag, WMO_ID columns\n",
        "stations_df.drop([\"GSN_Flag\", \"HCN_CRN_Flag\", \"WMO_ID\"], axis=1, inplace=True)"
      ]
    },
    {
      "cell_type": "code",
      "execution_count": null,
      "metadata": {},
      "outputs": [
        {
          "data": {
            "application/vnd.microsoft.datawrangler.viewer.v0+json": {
              "columns": [
                {
                  "name": "index",
                  "rawType": "int64",
                  "type": "integer"
                },
                {
                  "name": "StationId",
                  "rawType": "object",
                  "type": "string"
                },
                {
                  "name": "Latitude",
                  "rawType": "float64",
                  "type": "float"
                },
                {
                  "name": "Longitude",
                  "rawType": "float64",
                  "type": "float"
                },
                {
                  "name": "Elevation",
                  "rawType": "float64",
                  "type": "float"
                },
                {
                  "name": "Name",
                  "rawType": "object",
                  "type": "string"
                }
              ],
              "conversionMethod": "pd.DataFrame",
              "ref": "14816e9d-1ac2-40ec-908a-9001f0d38167",
              "rows": [
                [
                  "0",
                  "ACW00011604",
                  "17.1167",
                  "-61.7833",
                  "10.1",
                  "ST JOHNS COOLIDGE FLD"
                ],
                [
                  "1",
                  "ACW00011647",
                  "17.1333",
                  "-61.7833",
                  "19.2",
                  "ST JOHNS"
                ],
                [
                  "2",
                  "AE000041196",
                  "25.333",
                  "55.517",
                  "34.0",
                  "SHARJAH INTER. AIRP"
                ],
                [
                  "3",
                  "AEM00041194",
                  "25.255",
                  "55.364",
                  "10.4",
                  "DUBAI INTL"
                ],
                [
                  "4",
                  "AEM00041217",
                  "24.433",
                  "54.651",
                  "26.8",
                  "ABU DHABI INTL"
                ],
                [
                  "5",
                  "AEM00041218",
                  "24.262",
                  "55.609",
                  "264.9",
                  "AL AIN INTL"
                ],
                [
                  "6",
                  "AF000040930",
                  "35.317",
                  "69.017",
                  "3366.0",
                  "NORTH-SALANG"
                ],
                [
                  "7",
                  "AFM00040938",
                  "34.21",
                  "62.228",
                  "977.2",
                  "HERAT"
                ],
                [
                  "8",
                  "AFM00040948",
                  "34.566",
                  "69.212",
                  "1791.3",
                  "KABUL INTL"
                ],
                [
                  "9",
                  "AFM00040990",
                  "31.5",
                  "65.85",
                  "1010.0",
                  "KANDAHAR AIRPORT"
                ],
                [
                  "10",
                  "AG000060390",
                  "36.7167",
                  "3.25",
                  "24.0",
                  "ALGER-DAR EL BEIDA"
                ],
                [
                  "11",
                  "AG000060590",
                  "30.5667",
                  "2.8667",
                  "397.0",
                  "EL-GOLEA"
                ],
                [
                  "12",
                  "AG000060611",
                  "28.05",
                  "9.6331",
                  "561.0",
                  "IN-AMENAS"
                ],
                [
                  "13",
                  "AG000060680",
                  "22.8",
                  "5.4331",
                  "1362.0",
                  "TAMANRASSET"
                ],
                [
                  "14",
                  "AGE00135039",
                  "35.7297",
                  "0.65",
                  "50.0",
                  "ORAN-HOPITAL MILITAIRE"
                ],
                [
                  "15",
                  "AGE00147704",
                  "36.97",
                  "7.79",
                  "161.0",
                  "ANNABA-CAP DE GARDE"
                ],
                [
                  "16",
                  "AGE00147705",
                  "36.78",
                  "3.07",
                  "59.0",
                  "ALGIERS-VILLE/UNIVERSITE"
                ],
                [
                  "17",
                  "AGE00147706",
                  "36.8",
                  "3.03",
                  "344.0",
                  "ALGIERS-BOUZAREAH"
                ],
                [
                  "18",
                  "AGE00147707",
                  "36.8",
                  "3.04",
                  "38.0",
                  "ALGIERS-CAP CAXINE"
                ],
                [
                  "19",
                  "AGE00147708",
                  "36.72",
                  "4.05",
                  "222.0",
                  "TIZI OUZOU"
                ],
                [
                  "20",
                  "AGE00147709",
                  "36.63",
                  "4.2",
                  "942.0",
                  "FORT NATIONAL"
                ],
                [
                  "21",
                  "AGE00147710",
                  "36.75",
                  "5.1",
                  "9.0",
                  "BEJAIA-BOUGIE (PORT)"
                ],
                [
                  "22",
                  "AGE00147711",
                  "36.3697",
                  "6.62",
                  "660.0",
                  "CONSTANTINE"
                ],
                [
                  "23",
                  "AGE00147712",
                  "36.17",
                  "1.34",
                  "112.0",
                  "ORLEANSVILLE (CHLEF)"
                ],
                [
                  "24",
                  "AGE00147713",
                  "36.18",
                  "5.4",
                  "1081.0",
                  "SETIF"
                ],
                [
                  "25",
                  "AGE00147714",
                  "35.77",
                  "0.8",
                  "78.0",
                  "ORAN-CAP FALCON"
                ],
                [
                  "26",
                  "AGE00147715",
                  "35.42",
                  "8.1197",
                  "863.0",
                  "TEBESSA"
                ],
                [
                  "27",
                  "AGE00147716",
                  "35.1",
                  "-1.85",
                  "83.0",
                  "NEMOURS (GHAZAOUET)"
                ],
                [
                  "28",
                  "AGE00147717",
                  "35.2",
                  "0.63",
                  "476.0",
                  "SIDI-BEL-ABBES"
                ],
                [
                  "29",
                  "AGE00147718",
                  "34.85",
                  "5.72",
                  "125.0",
                  "BISKRA"
                ],
                [
                  "30",
                  "AGE00147719",
                  "33.7997",
                  "2.89",
                  "767.0",
                  "LAGHOUAT"
                ],
                [
                  "31",
                  "AGE00147720",
                  "33.68",
                  "1.0",
                  "1320.0",
                  "GERYVILLE (EL-BAYADH)"
                ],
                [
                  "32",
                  "AGE00147780",
                  "37.08",
                  "6.47",
                  "195.0",
                  "SKIKDA-CAP BOUGAROUNI"
                ],
                [
                  "33",
                  "AGE00147794",
                  "36.78",
                  "5.1",
                  "225.0",
                  "BEJAIA-CAP CARBON"
                ],
                [
                  "34",
                  "AGM00060351",
                  "36.795",
                  "5.874",
                  "11.0",
                  "JIJEL"
                ],
                [
                  "35",
                  "AGM00060353",
                  "36.817",
                  "5.883",
                  "6.0",
                  "JIJEL-PORT"
                ],
                [
                  "36",
                  "AGM00060355",
                  "36.933",
                  "6.95",
                  "7.0",
                  "SKIKDA"
                ],
                [
                  "37",
                  "AGM00060360",
                  "36.822",
                  "7.809",
                  "4.9",
                  "ANNABA"
                ],
                [
                  "38",
                  "AGM00060367",
                  "36.9",
                  "8.45",
                  "13.0",
                  "EL-KALA"
                ],
                [
                  "39",
                  "AGM00060369",
                  "36.767",
                  "3.1",
                  "12.0",
                  "ALGER-PORT"
                ],
                [
                  "40",
                  "AGM00060387",
                  "36.917",
                  "3.95",
                  "8.0",
                  "DELLYS"
                ],
                [
                  "41",
                  "AGM00060402",
                  "36.712",
                  "5.07",
                  "6.1",
                  "SOUMMAM"
                ],
                [
                  "42",
                  "AGM00060403",
                  "36.467",
                  "7.467",
                  "228.0",
                  "GUELMA"
                ],
                [
                  "43",
                  "AGM00060405",
                  "36.5",
                  "7.717",
                  "111.0",
                  "BOUCHEGOUF"
                ],
                [
                  "44",
                  "AGM00060410",
                  "36.5",
                  "1.333",
                  "18.0",
                  "TENES"
                ],
                [
                  "45",
                  "AGM00060415",
                  "36.317",
                  "3.533",
                  "748.0",
                  "AIN-BESSAM"
                ],
                [
                  "46",
                  "AGM00060417",
                  "36.383",
                  "3.883",
                  "560.0",
                  "BOUIRA"
                ],
                [
                  "47",
                  "AGM00060419",
                  "36.276",
                  "6.62",
                  "690.4",
                  "MOHAMED BOUDIAF INTL"
                ],
                [
                  "48",
                  "AGM00060421",
                  "35.867",
                  "7.117",
                  "891.0",
                  "OUM EL BOUAGHI"
                ],
                [
                  "49",
                  "AGM00060423",
                  "36.283",
                  "7.967",
                  "680.0",
                  "SOUK AHRAS"
                ]
              ],
              "shape": {
                "columns": 5,
                "rows": 129657
              }
            },
            "text/html": [
              "<div>\n",
              "<style scoped>\n",
              "    .dataframe tbody tr th:only-of-type {\n",
              "        vertical-align: middle;\n",
              "    }\n",
              "\n",
              "    .dataframe tbody tr th {\n",
              "        vertical-align: top;\n",
              "    }\n",
              "\n",
              "    .dataframe thead th {\n",
              "        text-align: right;\n",
              "    }\n",
              "</style>\n",
              "<table border=\"1\" class=\"dataframe\">\n",
              "  <thead>\n",
              "    <tr style=\"text-align: right;\">\n",
              "      <th></th>\n",
              "      <th>StationId</th>\n",
              "      <th>Latitude</th>\n",
              "      <th>Longitude</th>\n",
              "      <th>Elevation</th>\n",
              "      <th>Name</th>\n",
              "    </tr>\n",
              "  </thead>\n",
              "  <tbody>\n",
              "    <tr>\n",
              "      <th>0</th>\n",
              "      <td>ACW00011604</td>\n",
              "      <td>17.1167</td>\n",
              "      <td>-61.7833</td>\n",
              "      <td>10.1</td>\n",
              "      <td>ST JOHNS COOLIDGE FLD</td>\n",
              "    </tr>\n",
              "    <tr>\n",
              "      <th>1</th>\n",
              "      <td>ACW00011647</td>\n",
              "      <td>17.1333</td>\n",
              "      <td>-61.7833</td>\n",
              "      <td>19.2</td>\n",
              "      <td>ST JOHNS</td>\n",
              "    </tr>\n",
              "    <tr>\n",
              "      <th>2</th>\n",
              "      <td>AE000041196</td>\n",
              "      <td>25.3330</td>\n",
              "      <td>55.5170</td>\n",
              "      <td>34.0</td>\n",
              "      <td>SHARJAH INTER. AIRP</td>\n",
              "    </tr>\n",
              "    <tr>\n",
              "      <th>3</th>\n",
              "      <td>AEM00041194</td>\n",
              "      <td>25.2550</td>\n",
              "      <td>55.3640</td>\n",
              "      <td>10.4</td>\n",
              "      <td>DUBAI INTL</td>\n",
              "    </tr>\n",
              "    <tr>\n",
              "      <th>4</th>\n",
              "      <td>AEM00041217</td>\n",
              "      <td>24.4330</td>\n",
              "      <td>54.6510</td>\n",
              "      <td>26.8</td>\n",
              "      <td>ABU DHABI INTL</td>\n",
              "    </tr>\n",
              "    <tr>\n",
              "      <th>...</th>\n",
              "      <td>...</td>\n",
              "      <td>...</td>\n",
              "      <td>...</td>\n",
              "      <td>...</td>\n",
              "      <td>...</td>\n",
              "    </tr>\n",
              "    <tr>\n",
              "      <th>129652</th>\n",
              "      <td>ZI000067969</td>\n",
              "      <td>21.0500</td>\n",
              "      <td>29.3670</td>\n",
              "      <td>861.0</td>\n",
              "      <td>WEST NICHOLSON</td>\n",
              "    </tr>\n",
              "    <tr>\n",
              "      <th>129653</th>\n",
              "      <td>ZI000067975</td>\n",
              "      <td>20.0670</td>\n",
              "      <td>30.8670</td>\n",
              "      <td>1095.0</td>\n",
              "      <td>MASVINGO</td>\n",
              "    </tr>\n",
              "    <tr>\n",
              "      <th>129654</th>\n",
              "      <td>ZI000067977</td>\n",
              "      <td>21.0170</td>\n",
              "      <td>31.5830</td>\n",
              "      <td>430.0</td>\n",
              "      <td>BUFFALO RANGE</td>\n",
              "    </tr>\n",
              "    <tr>\n",
              "      <th>129655</th>\n",
              "      <td>ZI000067983</td>\n",
              "      <td>20.2000</td>\n",
              "      <td>32.6160</td>\n",
              "      <td>1132.0</td>\n",
              "      <td>CHIPINGE</td>\n",
              "    </tr>\n",
              "    <tr>\n",
              "      <th>129656</th>\n",
              "      <td>ZI000067991</td>\n",
              "      <td>22.2170</td>\n",
              "      <td>30.0000</td>\n",
              "      <td>457.0</td>\n",
              "      <td>BEITBRIDGE</td>\n",
              "    </tr>\n",
              "  </tbody>\n",
              "</table>\n",
              "<p>129657 rows × 5 columns</p>\n",
              "</div>"
            ],
            "text/plain": [
              "          StationId  Latitude  Longitude  Elevation                   Name\n",
              "0       ACW00011604   17.1167   -61.7833       10.1  ST JOHNS COOLIDGE FLD\n",
              "1       ACW00011647   17.1333   -61.7833       19.2               ST JOHNS\n",
              "2       AE000041196   25.3330    55.5170       34.0    SHARJAH INTER. AIRP\n",
              "3       AEM00041194   25.2550    55.3640       10.4             DUBAI INTL\n",
              "4       AEM00041217   24.4330    54.6510       26.8         ABU DHABI INTL\n",
              "...             ...       ...        ...        ...                    ...\n",
              "129652  ZI000067969   21.0500    29.3670      861.0         WEST NICHOLSON\n",
              "129653  ZI000067975   20.0670    30.8670     1095.0               MASVINGO\n",
              "129654  ZI000067977   21.0170    31.5830      430.0          BUFFALO RANGE\n",
              "129655  ZI000067983   20.2000    32.6160     1132.0               CHIPINGE\n",
              "129656  ZI000067991   22.2170    30.0000      457.0             BEITBRIDGE\n",
              "\n",
              "[129657 rows x 5 columns]"
            ]
          },
          "execution_count": 8,
          "metadata": {},
          "output_type": "execute_result"
        }
      ],
      "source": [
        "stations_df"
      ]
    },
    {
      "cell_type": "code",
      "execution_count": 9,
      "metadata": {},
      "outputs": [],
      "source": [
        "# load ghcnd-countries.txt file - fixed width file no header\n",
        "countries_df = pd.read_fwf('Source_Data/ghcnd-countries.txt', header=None)\n",
        "countries_df.columns = [\"CountryCode\", \"Name\"]\n",
        "\n",
        "# Load ghcnd-states.txt file - fixed width file no header\n",
        "states_df = pd.read_fwf('Source_Data/ghcnd-states.txt', header=None)\n",
        "states_df.columns = [\"StateCode\", \"Name\"]"
      ]
    },
    {
      "cell_type": "code",
      "execution_count": 10,
      "metadata": {},
      "outputs": [
        {
          "name": "stdout",
          "output_type": "stream",
          "text": [
            "  CountryCode                  Name\n",
            "0          AC   Antigua and Barbuda\n",
            "1          AE  United Arab Emirates\n",
            "2          AF           Afghanistan\n",
            "3          AG               Algeria\n",
            "4          AJ            Azerbaijan\n",
            "  StateCode            Name\n",
            "0        AB         ALBERTA\n",
            "1        AK          ALASKA\n",
            "2        AL         ALABAMA\n",
            "3        AR        ARKANSAS\n",
            "4        AS  AMERICAN SAMOA\n"
          ]
        }
      ],
      "source": [
        "print(countries_df.head())\n",
        "print(states_df.head())"
      ]
    },
    {
      "cell_type": "markdown",
      "metadata": {
        "id": "ZY3l0-AxO93d"
      },
      "source": [
        "---"
      ]
    },
    {
      "cell_type": "code",
      "execution_count": 11,
      "metadata": {},
      "outputs": [],
      "source": [
        "# add column to weather_df for the country code = set it to the first 2 characters of the Station_ID\n",
        "weather_df['CountryCode'] = weather_df['Station_ID'].str[:2]\n",
        "weather_df.head()\n",
        "# drop weather_df MFlag, QFlag, SFlag, ObsTime columns\n",
        "weather_df.drop([\"MFlag\", \"QFlag\", \"SFlag\", \"ObsTime\"], axis=1, inplace=True)"
      ]
    },
    {
      "cell_type": "code",
      "execution_count": 12,
      "metadata": {},
      "outputs": [
        {
          "name": "stdout",
          "output_type": "stream",
          "text": [
            "CountryCode\n",
            "US    20092001\n",
            "CA     2982729\n",
            "AS     2916911\n",
            "MX     2783511\n",
            "RS      936333\n",
            "        ...   \n",
            "SX         188\n",
            "RW         115\n",
            "ZA          48\n",
            "EK           3\n",
            "IO           1\n",
            "Name: count, Length: 196, dtype: int64\n",
            "CountryCode\n",
            "US    20092001\n",
            "CA     2982729\n",
            "AS     2916911\n",
            "MX     2783511\n",
            "RS      936333\n",
            "        ...   \n",
            "SX         188\n",
            "RW         115\n",
            "ZA          48\n",
            "EK           3\n",
            "IO           1\n",
            "Name: count, Length: 196, dtype: int64\n"
          ]
        }
      ],
      "source": [
        "# count of rows in weather_df by country\n",
        "print(weather_df['CountryCode'].value_counts())\n",
        "# deduplicate the weather_df by station_id, element, date, taking the first record if multiple records exist\n",
        "weather_df = weather_df.drop_duplicates(subset=[\"Station_ID\", \"Element\", \"Date\"], keep='first')\n",
        "# count of rows in weather_df by country\n",
        "print(weather_df['CountryCode'].value_counts())"
      ]
    },
    {
      "cell_type": "code",
      "execution_count": 13,
      "metadata": {},
      "outputs": [
        {
          "name": "stdout",
          "output_type": "stream",
          "text": [
            "CountryCode\n",
            "US    75846\n",
            "AS    17088\n",
            "CA     9269\n",
            "BR     5989\n",
            "MX     5249\n",
            "      ...  \n",
            "RW        1\n",
            "SB        1\n",
            "SE        1\n",
            "CB        1\n",
            "NN        1\n",
            "Name: count, Length: 219, dtype: int64\n"
          ]
        }
      ],
      "source": [
        "# seperate the countryid out of the stations_df based on 1st 2 chracters of the StationId\n",
        "stations_df['CountryCode'] = stations_df['StationId'].str[:2]\n",
        "# count stations by country\n",
        "print(stations_df['CountryCode'].value_counts())"
      ]
    },
    {
      "cell_type": "code",
      "execution_count": 14,
      "metadata": {},
      "outputs": [
        {
          "name": "stdout",
          "output_type": "stream",
          "text": [
            "0\n",
            "0\n",
            "129657\n",
            "34973736\n",
            "75846\n",
            "20092001\n",
            "Element\n",
            "PRCP    3227238\n",
            "SNOW    2799342\n",
            "SNWD    2763856\n",
            "TMAX    2658783\n",
            "TMIN    2657783\n",
            "         ...   \n",
            "MDSF         95\n",
            "DASF         87\n",
            "WV07         74\n",
            "WT10         72\n",
            "WV18          4\n",
            "Name: count, Length: 87, dtype: int64\n",
            "['PRCP', 'SNOW', 'SNWD', 'TMAX', 'TMIN', 'TOBS', 'TAVG', 'WESD', 'AWND', 'WSF5', 'WDF2', 'WSF2', 'WDF5', 'FMTM', 'PGTM', 'WT01', 'WT03', 'EVAP', 'WT13', 'WDMV', 'WT16', 'TSUN', 'MNPN', 'MXPN', 'SX02', 'SN02', 'WESF', 'SN32', 'SX32', 'WT08', 'WT18', 'WT02', 'SX03', 'SN03', 'SN52', 'SX52', 'SN01', 'SX01', 'WT11', 'WT04', 'WT06', 'WT05', 'MDPR', 'DAPR', 'SX12', 'SN12', 'WT22', 'SN31', 'SX31']\n"
          ]
        }
      ],
      "source": [
        "# check that country code is only country code\n",
        "# count of rows where CountryCode in stations_df is not in countries_df\n",
        "print(stations_df[~stations_df['CountryCode'].isin(countries_df['CountryCode'])].shape[0])\n",
        "# count of rows in weather_df where CountryCode is not in countries_df\n",
        "print(weather_df[~weather_df['CountryCode'].isin(countries_df['CountryCode'])].shape[0])\n",
        "# count rows in stations_df\n",
        "print(stations_df.shape[0])\n",
        "# count rows in weather_df\n",
        "print(weather_df.shape[0])\n",
        "# filter stations_df to only include rows where CountryCode =\"US\"\n",
        "stations_df = stations_df[stations_df['CountryCode']==\"US\"]\n",
        "# filter weather_df to only include rows where CountryCode =\"US\"\n",
        "weather_df = weather_df[weather_df['CountryCode']==\"US\"]\n",
        "# count rows in stations_df\n",
        "print(stations_df.shape[0])\n",
        "# count rows in weather_df\n",
        "print(weather_df.shape[0])\n",
        "# count of Elements in weather_df\n",
        "print(weather_df['Element'].value_counts())\n",
        "# list of elements with at data in at least 90% of dates and stations\n",
        "elements = weather_df['Element'].value_counts()\n",
        "elements = elements[elements > 0.9 * 365 * 10]\n",
        "elements = elements.index.tolist()\n",
        "print(elements)\n"
      ]
    },
    {
      "cell_type": "markdown",
      "metadata": {},
      "source": []
    },
    {
      "cell_type": "code",
      "execution_count": null,
      "metadata": {},
      "outputs": [
        {
          "name": "stdout",
          "output_type": "stream",
          "text": [
            "6952464\n",
            "2684235\n"
          ]
        }
      ],
      "source": [
        "ElementList = [\n",
        "  # \"PRCP\",  # Precipitation (tenths of mm)\n",
        "  # \"WT03\",  # Thunder\n",
        "  \"WT16\",  # Rain (may include freezing rain, drizzle, and freezing drizzle)\n",
        "\n",
        "  # \"SNOW\",  # Snowfall (mm)\n",
        "  # \"SNWD\",  # Snow depth (mm)\n",
        "  # \"WESD\",  # Water equivalent of snow on the ground (tenths of mm)\n",
        "  # 'WESF',  # Water equivalent of snowfall (tenths of mm)\n",
        "  \"WT01\",  # Fog, ice fog, or freezing fog (may include heavy fog)\n",
        "  \"WT04\",  # Ice pellets, sleet, snow pellets, or small hail\"\n",
        "  \"WT18\",  # Snow, snow pellets, snow grains, or ice crystals\n",
        "  'WT22',  # Ice fog or freezing fog\n",
        "  \"WT09\",  # Blowing or drifting snow\n",
        "  \n",
        "  \"TMAX\",  # Maximum temperature (tenths of degrees C)\n",
        "  \"TMIN\",  # Minimum temperature (tenths of degrees C)\n",
        "  \"TAVG\",  # Average temperature (tenths of degrees C)\n",
        "\n",
        "  \"TSUN\",  # Daily total sunshine (minutes)\n",
        "\n",
        "  \"AWND\",  # Average daily wind speed (tenths of meters per second)\n",
        "  # \"WDF2\",  # Direction of fastest 2-minute wind (degrees)\n",
        "  # \"WDF5\",  # Direction of fastest 5-second wind (degrees)\n",
        "  # \"WSF2\",  # Fastest 2-minute wind speed (tenths of meters per second)\n",
        "  # \"WSF5\",  # Fastest 5-second wind speed (tenths of meters per second)\n",
        "  # \"FMTM\",  # Time of fastest mile or fastest 1-minute wind (hours and minutes, i.e., HHMM)\n",
        "  \"PGTM\",  # Peak gust time (hours and minutes, i.e., HHMM)\n",
        "  # \"WDMV\",  # 24-hour wind movement (km)\n",
        "  'WT11',  # High or damaging winds\n",
        "  # \"WT06\",  # Glaze or rime\n",
        "  # \"WT08\",  # Smoke or haze\n",
        "  # \"WT05\",  # Hail (may include small hail)\n",
        "  # \"WT02\",  # Heavy fog or heaving freezing fog (not always distinguished from fog)\n",
        "  # \"WT13\",  # Mist\n",
        "  ]\n",
        "\n",
        "# save Stations_df to a csv file called Us_Stations.csv\n",
        "stations_df.to_csv(\"Us_Stations.csv\", index=False)\n",
        "# filter weather_df to only include rows where Element in ElementList\n",
        "weather_df = weather_df[weather_df['Element'].isin(ElementList)]\n",
        "# count rows in weather_df\n",
        "print(weather_df.shape[0])\n",
        "# unpack weather_df Element in to seperate columns with value eq to DataValue where Element = TMAX, grouped by Station_Id and Date\n",
        "weather_up_df = weather_df.pivot_table(index=[\"Station_ID\", \"Date\"],\n",
        "                     columns=\"Element\",\n",
        "                     values=\"DataValue\",\n",
        "                     aggfunc='first').reset_index()\n",
        "\n",
        "# Ensure a column exists for each value in ElementList\n",
        "for element in ElementList:\n",
        "  if element not in weather_up_df.columns:\n",
        "    weather_up_df[element] = None\n",
        "# count rows of weather_df\n",
        "print(weather_up_df.shape[0])\n",
        "# save weather_df to a csv file called Us_Weather_Unpacked.zip\n",
        "weather_up_df.to_csv(\"Us_Weather_Unpacked.zip\", index=False, compression='zip')"
      ]
    },
    {
      "cell_type": "code",
      "execution_count": 19,
      "metadata": {},
      "outputs": [
        {
          "data": {
            "application/vnd.microsoft.datawrangler.viewer.v0+json": {
              "columns": [
                {
                  "name": "index",
                  "rawType": "int64",
                  "type": "integer"
                },
                {
                  "name": "Station_ID",
                  "rawType": "object",
                  "type": "string"
                },
                {
                  "name": "Date",
                  "rawType": "int64",
                  "type": "integer"
                },
                {
                  "name": "AWND",
                  "rawType": "float64",
                  "type": "float"
                },
                {
                  "name": "PGTM",
                  "rawType": "float64",
                  "type": "float"
                },
                {
                  "name": "TAVG",
                  "rawType": "float64",
                  "type": "float"
                },
                {
                  "name": "TMAX",
                  "rawType": "float64",
                  "type": "float"
                },
                {
                  "name": "TMIN",
                  "rawType": "float64",
                  "type": "float"
                },
                {
                  "name": "TSUN",
                  "rawType": "float64",
                  "type": "float"
                },
                {
                  "name": "WT01",
                  "rawType": "float64",
                  "type": "float"
                },
                {
                  "name": "WT04",
                  "rawType": "float64",
                  "type": "float"
                },
                {
                  "name": "WT09",
                  "rawType": "float64",
                  "type": "float"
                },
                {
                  "name": "WT11",
                  "rawType": "float64",
                  "type": "float"
                },
                {
                  "name": "WT16",
                  "rawType": "float64",
                  "type": "float"
                },
                {
                  "name": "WT18",
                  "rawType": "float64",
                  "type": "float"
                },
                {
                  "name": "WT22",
                  "rawType": "float64",
                  "type": "float"
                }
              ],
              "conversionMethod": "pd.DataFrame",
              "ref": "83c369e5-9c5d-425a-85d3-ef503b638854",
              "rows": [
                [
                  "2649726",
                  "USW00094173",
                  "20000101",
                  "5.0",
                  "1449.0",
                  "-78.0",
                  "-44.0",
                  "-117.0",
                  null,
                  null,
                  null,
                  null,
                  null,
                  null,
                  null,
                  null
                ],
                [
                  "2649727",
                  "USW00094173",
                  "20000102",
                  "11.0",
                  "1516.0",
                  "-150.0",
                  "-89.0",
                  "-211.0",
                  null,
                  null,
                  null,
                  null,
                  null,
                  null,
                  null,
                  null
                ],
                [
                  "2649728",
                  "USW00094173",
                  "20000103",
                  "7.0",
                  "1312.0",
                  "-156.0",
                  "-106.0",
                  "-206.0",
                  null,
                  null,
                  null,
                  null,
                  null,
                  null,
                  null,
                  null
                ],
                [
                  "2649729",
                  "USW00094173",
                  "20000104",
                  "5.0",
                  "2109.0",
                  "-111.0",
                  "-67.0",
                  "-156.0",
                  null,
                  null,
                  null,
                  null,
                  null,
                  null,
                  null,
                  null
                ],
                [
                  "2649730",
                  "USW00094173",
                  "20000105",
                  "19.0",
                  "1526.0",
                  "-117.0",
                  "-72.0",
                  "-167.0",
                  null,
                  null,
                  null,
                  null,
                  null,
                  null,
                  null,
                  null
                ],
                [
                  "2649731",
                  "USW00094173",
                  "20000106",
                  "9.0",
                  "1319.0",
                  "-128.0",
                  "-83.0",
                  "-172.0",
                  null,
                  null,
                  null,
                  null,
                  null,
                  null,
                  null,
                  null
                ],
                [
                  "2649732",
                  "USW00094173",
                  "20000107",
                  "6.0",
                  "1532.0",
                  "-139.0",
                  "-67.0",
                  "-211.0",
                  null,
                  null,
                  null,
                  null,
                  null,
                  null,
                  null,
                  null
                ],
                [
                  "2649733",
                  "USW00094173",
                  "20000108",
                  "0.0",
                  "1312.0",
                  "-128.0",
                  "-78.0",
                  "-178.0",
                  null,
                  null,
                  null,
                  null,
                  null,
                  null,
                  null,
                  null
                ],
                [
                  "2649734",
                  "USW00094173",
                  "20000109",
                  "30.0",
                  "2100.0",
                  "-117.0",
                  "-67.0",
                  "-172.0",
                  null,
                  null,
                  null,
                  null,
                  null,
                  null,
                  null,
                  null
                ],
                [
                  "2649735",
                  "USW00094173",
                  "20000110",
                  "23.0",
                  "118.0",
                  "-111.0",
                  "-39.0",
                  "-189.0",
                  null,
                  null,
                  null,
                  null,
                  null,
                  null,
                  null,
                  null
                ],
                [
                  "2649736",
                  "USW00094173",
                  "20000111",
                  "40.0",
                  "311.0",
                  "-39.0",
                  "-22.0",
                  "-61.0",
                  null,
                  null,
                  null,
                  null,
                  null,
                  null,
                  null,
                  null
                ],
                [
                  "2649737",
                  "USW00094173",
                  "20000112",
                  "28.0",
                  "214.0",
                  "-94.0",
                  "-50.0",
                  "-139.0",
                  null,
                  null,
                  null,
                  null,
                  null,
                  null,
                  null,
                  null
                ],
                [
                  "2649738",
                  "USW00094173",
                  "20000113",
                  "6.0",
                  "1638.0",
                  "-94.0",
                  "-39.0",
                  "-156.0",
                  null,
                  null,
                  null,
                  null,
                  null,
                  null,
                  null,
                  null
                ],
                [
                  "2649739",
                  "USW00094173",
                  "20000114",
                  "21.0",
                  "1339.0",
                  "-33.0",
                  "28.0",
                  "-94.0",
                  null,
                  null,
                  null,
                  null,
                  null,
                  null,
                  null,
                  null
                ],
                [
                  "2649740",
                  "USW00094173",
                  "20000115",
                  "27.0",
                  "1231.0",
                  "-6.0",
                  "11.0",
                  "-28.0",
                  null,
                  null,
                  null,
                  null,
                  null,
                  null,
                  null,
                  null
                ],
                [
                  "2649741",
                  "USW00094173",
                  "20000116",
                  "15.0",
                  "2320.0",
                  "0.0",
                  "28.0",
                  "-33.0",
                  null,
                  null,
                  null,
                  null,
                  null,
                  null,
                  null,
                  null
                ],
                [
                  "2649742",
                  "USW00094173",
                  "20000117",
                  "16.0",
                  "1418.0",
                  "-89.0",
                  "-11.0",
                  "-167.0",
                  null,
                  null,
                  null,
                  null,
                  null,
                  null,
                  null,
                  null
                ],
                [
                  "2649743",
                  "USW00094173",
                  "20000118",
                  "5.0",
                  "1702.0",
                  "-89.0",
                  "-6.0",
                  "-172.0",
                  null,
                  null,
                  null,
                  null,
                  null,
                  null,
                  null,
                  null
                ],
                [
                  "2649744",
                  "USW00094173",
                  "20000119",
                  "14.0",
                  "1345.0",
                  "-72.0",
                  "-22.0",
                  "-122.0",
                  null,
                  null,
                  null,
                  null,
                  null,
                  null,
                  null,
                  null
                ],
                [
                  "2649745",
                  "USW00094173",
                  "20000120",
                  "8.0",
                  "1329.0",
                  "-17.0",
                  "11.0",
                  "-50.0",
                  null,
                  null,
                  null,
                  null,
                  null,
                  null,
                  null,
                  null
                ],
                [
                  "2649746",
                  "USW00094173",
                  "20000121",
                  "20.0",
                  "1400.0",
                  "-56.0",
                  "-11.0",
                  "-100.0",
                  null,
                  null,
                  null,
                  null,
                  null,
                  null,
                  null,
                  null
                ],
                [
                  "2649747",
                  "USW00094173",
                  "20000122",
                  "19.0",
                  "1250.0",
                  "-100.0",
                  "-50.0",
                  "-150.0",
                  null,
                  null,
                  null,
                  null,
                  null,
                  null,
                  null,
                  null
                ],
                [
                  "2649748",
                  "USW00094173",
                  "20000123",
                  "8.0",
                  "1429.0",
                  "-117.0",
                  "-56.0",
                  "-183.0",
                  null,
                  null,
                  null,
                  null,
                  null,
                  null,
                  null,
                  null
                ],
                [
                  "2649749",
                  "USW00094173",
                  "20000124",
                  "0.0",
                  "1609.0",
                  "-61.0",
                  "-33.0",
                  "-94.0",
                  null,
                  null,
                  null,
                  null,
                  null,
                  null,
                  null,
                  null
                ],
                [
                  "2649750",
                  "USW00094173",
                  "20000125",
                  "3.0",
                  "1759.0",
                  "-61.0",
                  "-11.0",
                  "-111.0",
                  null,
                  null,
                  null,
                  null,
                  null,
                  null,
                  null,
                  null
                ],
                [
                  "2649751",
                  "USW00094173",
                  "20000126",
                  "5.0",
                  "2108.0",
                  "-89.0",
                  "-33.0",
                  "-150.0",
                  null,
                  null,
                  null,
                  null,
                  null,
                  null,
                  null,
                  null
                ],
                [
                  "2649752",
                  "USW00094173",
                  "20000127",
                  "9.0",
                  "358.0",
                  "-128.0",
                  "-72.0",
                  "-189.0",
                  null,
                  null,
                  null,
                  null,
                  null,
                  null,
                  null,
                  null
                ],
                [
                  "2649753",
                  "USW00094173",
                  "20000128",
                  "4.0",
                  "1336.0",
                  "-167.0",
                  "-94.0",
                  "-239.0",
                  null,
                  null,
                  null,
                  null,
                  null,
                  null,
                  null,
                  null
                ],
                [
                  "2649754",
                  "USW00094173",
                  "20000129",
                  "1.0",
                  "1329.0",
                  "-194.0",
                  "-117.0",
                  "-272.0",
                  null,
                  null,
                  null,
                  null,
                  null,
                  null,
                  null,
                  null
                ],
                [
                  "2649755",
                  "USW00094173",
                  "20000130",
                  "1.0",
                  "1831.0",
                  "-206.0",
                  "-106.0",
                  "-306.0",
                  null,
                  null,
                  null,
                  null,
                  null,
                  null,
                  null,
                  null
                ],
                [
                  "2649756",
                  "USW00094173",
                  "20000131",
                  "1.0",
                  "1210.0",
                  "-183.0",
                  "-72.0",
                  "-300.0",
                  null,
                  null,
                  null,
                  null,
                  null,
                  null,
                  null,
                  null
                ],
                [
                  "2649757",
                  "USW00094173",
                  "20000201",
                  "1.0",
                  "1712.0",
                  "-122.0",
                  "-56.0",
                  "-194.0",
                  null,
                  null,
                  null,
                  null,
                  null,
                  null,
                  null,
                  null
                ],
                [
                  "2649758",
                  "USW00094173",
                  "20000202",
                  "26.0",
                  "539.0",
                  "-44.0",
                  "11.0",
                  "-106.0",
                  null,
                  null,
                  null,
                  null,
                  null,
                  null,
                  null,
                  null
                ],
                [
                  "2649759",
                  "USW00094173",
                  "20000203",
                  "8.0",
                  "1311.0",
                  "-61.0",
                  "28.0",
                  "-150.0",
                  null,
                  null,
                  null,
                  null,
                  null,
                  null,
                  null,
                  null
                ],
                [
                  "2649760",
                  "USW00094173",
                  "20000204",
                  "2.0",
                  "1144.0",
                  "-50.0",
                  "72.0",
                  "-172.0",
                  null,
                  null,
                  null,
                  null,
                  null,
                  null,
                  null,
                  null
                ],
                [
                  "2649761",
                  "USW00094173",
                  "20000205",
                  "4.0",
                  "2028.0",
                  "28.0",
                  "94.0",
                  "-39.0",
                  null,
                  null,
                  null,
                  null,
                  null,
                  null,
                  null,
                  null
                ],
                [
                  "2649762",
                  "USW00094173",
                  "20000206",
                  "10.0",
                  "1348.0",
                  "33.0",
                  "139.0",
                  "-78.0",
                  null,
                  null,
                  null,
                  null,
                  null,
                  null,
                  null,
                  null
                ],
                [
                  "2649763",
                  "USW00094173",
                  "20000207",
                  "4.0",
                  "1546.0",
                  "28.0",
                  "150.0",
                  "-94.0",
                  null,
                  null,
                  null,
                  null,
                  null,
                  null,
                  null,
                  null
                ],
                [
                  "2649764",
                  "USW00094173",
                  "20000208",
                  "8.0",
                  "1436.0",
                  "50.0",
                  "189.0",
                  "-94.0",
                  null,
                  null,
                  null,
                  null,
                  null,
                  null,
                  null,
                  null
                ],
                [
                  "2649765",
                  "USW00094173",
                  "20000209",
                  "16.0",
                  "1329.0",
                  "89.0",
                  "161.0",
                  "17.0",
                  null,
                  null,
                  null,
                  null,
                  null,
                  null,
                  null,
                  null
                ],
                [
                  "2649766",
                  "USW00094173",
                  "20000210",
                  "14.0",
                  "1346.0",
                  "11.0",
                  "128.0",
                  "-111.0",
                  null,
                  null,
                  null,
                  null,
                  null,
                  null,
                  null,
                  null
                ],
                [
                  "2649767",
                  "USW00094173",
                  "20000211",
                  "11.0",
                  "1701.0",
                  null,
                  null,
                  null,
                  null,
                  null,
                  null,
                  null,
                  null,
                  null,
                  null,
                  null
                ],
                [
                  "2649768",
                  "USW00094173",
                  "20000212",
                  "7.0",
                  "2348.0",
                  null,
                  null,
                  null,
                  null,
                  null,
                  null,
                  null,
                  null,
                  null,
                  null,
                  null
                ],
                [
                  "2649769",
                  "USW00094173",
                  "20000213",
                  "23.0",
                  "1111.0",
                  null,
                  null,
                  null,
                  null,
                  null,
                  null,
                  null,
                  null,
                  null,
                  null,
                  null
                ],
                [
                  "2649770",
                  "USW00094173",
                  "20000214",
                  "23.0",
                  "2212.0",
                  null,
                  null,
                  null,
                  null,
                  null,
                  null,
                  null,
                  null,
                  null,
                  null,
                  null
                ],
                [
                  "2649771",
                  "USW00094173",
                  "20000215",
                  "30.0",
                  "1119.0",
                  null,
                  null,
                  null,
                  null,
                  null,
                  null,
                  null,
                  null,
                  null,
                  null,
                  null
                ],
                [
                  "2649772",
                  "USW00094173",
                  "20000216",
                  "1.0",
                  "50.0",
                  null,
                  null,
                  null,
                  null,
                  null,
                  null,
                  null,
                  null,
                  null,
                  null,
                  null
                ],
                [
                  "2649773",
                  "USW00094173",
                  "20000217",
                  "4.0",
                  "1910.0",
                  null,
                  null,
                  null,
                  null,
                  null,
                  null,
                  null,
                  null,
                  null,
                  null,
                  null
                ],
                [
                  "2649774",
                  "USW00094173",
                  "20000218",
                  "13.0",
                  "1403.0",
                  null,
                  null,
                  null,
                  null,
                  null,
                  null,
                  null,
                  null,
                  null,
                  null,
                  null
                ],
                [
                  "2649775",
                  "USW00094173",
                  "20000219",
                  "6.0",
                  "1518.0",
                  null,
                  null,
                  null,
                  null,
                  null,
                  null,
                  null,
                  null,
                  null,
                  null,
                  null
                ]
              ],
              "shape": {
                "columns": 15,
                "rows": 100
              }
            },
            "text/html": [
              "<div>\n",
              "<style scoped>\n",
              "    .dataframe tbody tr th:only-of-type {\n",
              "        vertical-align: middle;\n",
              "    }\n",
              "\n",
              "    .dataframe tbody tr th {\n",
              "        vertical-align: top;\n",
              "    }\n",
              "\n",
              "    .dataframe thead th {\n",
              "        text-align: right;\n",
              "    }\n",
              "</style>\n",
              "<table border=\"1\" class=\"dataframe\">\n",
              "  <thead>\n",
              "    <tr style=\"text-align: right;\">\n",
              "      <th>Element</th>\n",
              "      <th>Station_ID</th>\n",
              "      <th>Date</th>\n",
              "      <th>AWND</th>\n",
              "      <th>PGTM</th>\n",
              "      <th>TAVG</th>\n",
              "      <th>TMAX</th>\n",
              "      <th>TMIN</th>\n",
              "      <th>TSUN</th>\n",
              "      <th>WT01</th>\n",
              "      <th>WT04</th>\n",
              "      <th>WT09</th>\n",
              "      <th>WT11</th>\n",
              "      <th>WT16</th>\n",
              "      <th>WT18</th>\n",
              "      <th>WT22</th>\n",
              "    </tr>\n",
              "  </thead>\n",
              "  <tbody>\n",
              "    <tr>\n",
              "      <th>2649726</th>\n",
              "      <td>USW00094173</td>\n",
              "      <td>20000101</td>\n",
              "      <td>5.0</td>\n",
              "      <td>1449.0</td>\n",
              "      <td>-78.0</td>\n",
              "      <td>-44.0</td>\n",
              "      <td>-117.0</td>\n",
              "      <td>NaN</td>\n",
              "      <td>NaN</td>\n",
              "      <td>NaN</td>\n",
              "      <td>NaN</td>\n",
              "      <td>NaN</td>\n",
              "      <td>NaN</td>\n",
              "      <td>NaN</td>\n",
              "      <td>NaN</td>\n",
              "    </tr>\n",
              "    <tr>\n",
              "      <th>2649727</th>\n",
              "      <td>USW00094173</td>\n",
              "      <td>20000102</td>\n",
              "      <td>11.0</td>\n",
              "      <td>1516.0</td>\n",
              "      <td>-150.0</td>\n",
              "      <td>-89.0</td>\n",
              "      <td>-211.0</td>\n",
              "      <td>NaN</td>\n",
              "      <td>NaN</td>\n",
              "      <td>NaN</td>\n",
              "      <td>NaN</td>\n",
              "      <td>NaN</td>\n",
              "      <td>NaN</td>\n",
              "      <td>NaN</td>\n",
              "      <td>NaN</td>\n",
              "    </tr>\n",
              "    <tr>\n",
              "      <th>2649728</th>\n",
              "      <td>USW00094173</td>\n",
              "      <td>20000103</td>\n",
              "      <td>7.0</td>\n",
              "      <td>1312.0</td>\n",
              "      <td>-156.0</td>\n",
              "      <td>-106.0</td>\n",
              "      <td>-206.0</td>\n",
              "      <td>NaN</td>\n",
              "      <td>NaN</td>\n",
              "      <td>NaN</td>\n",
              "      <td>NaN</td>\n",
              "      <td>NaN</td>\n",
              "      <td>NaN</td>\n",
              "      <td>NaN</td>\n",
              "      <td>NaN</td>\n",
              "    </tr>\n",
              "    <tr>\n",
              "      <th>2649729</th>\n",
              "      <td>USW00094173</td>\n",
              "      <td>20000104</td>\n",
              "      <td>5.0</td>\n",
              "      <td>2109.0</td>\n",
              "      <td>-111.0</td>\n",
              "      <td>-67.0</td>\n",
              "      <td>-156.0</td>\n",
              "      <td>NaN</td>\n",
              "      <td>NaN</td>\n",
              "      <td>NaN</td>\n",
              "      <td>NaN</td>\n",
              "      <td>NaN</td>\n",
              "      <td>NaN</td>\n",
              "      <td>NaN</td>\n",
              "      <td>NaN</td>\n",
              "    </tr>\n",
              "    <tr>\n",
              "      <th>2649730</th>\n",
              "      <td>USW00094173</td>\n",
              "      <td>20000105</td>\n",
              "      <td>19.0</td>\n",
              "      <td>1526.0</td>\n",
              "      <td>-117.0</td>\n",
              "      <td>-72.0</td>\n",
              "      <td>-167.0</td>\n",
              "      <td>NaN</td>\n",
              "      <td>NaN</td>\n",
              "      <td>NaN</td>\n",
              "      <td>NaN</td>\n",
              "      <td>NaN</td>\n",
              "      <td>NaN</td>\n",
              "      <td>NaN</td>\n",
              "      <td>NaN</td>\n",
              "    </tr>\n",
              "    <tr>\n",
              "      <th>...</th>\n",
              "      <td>...</td>\n",
              "      <td>...</td>\n",
              "      <td>...</td>\n",
              "      <td>...</td>\n",
              "      <td>...</td>\n",
              "      <td>...</td>\n",
              "      <td>...</td>\n",
              "      <td>...</td>\n",
              "      <td>...</td>\n",
              "      <td>...</td>\n",
              "      <td>...</td>\n",
              "      <td>...</td>\n",
              "      <td>...</td>\n",
              "      <td>...</td>\n",
              "      <td>...</td>\n",
              "    </tr>\n",
              "    <tr>\n",
              "      <th>2649821</th>\n",
              "      <td>USW00094173</td>\n",
              "      <td>20000405</td>\n",
              "      <td>38.0</td>\n",
              "      <td>1606.0</td>\n",
              "      <td>NaN</td>\n",
              "      <td>NaN</td>\n",
              "      <td>NaN</td>\n",
              "      <td>NaN</td>\n",
              "      <td>NaN</td>\n",
              "      <td>NaN</td>\n",
              "      <td>NaN</td>\n",
              "      <td>NaN</td>\n",
              "      <td>NaN</td>\n",
              "      <td>NaN</td>\n",
              "      <td>NaN</td>\n",
              "    </tr>\n",
              "    <tr>\n",
              "      <th>2649822</th>\n",
              "      <td>USW00094173</td>\n",
              "      <td>20000713</td>\n",
              "      <td>NaN</td>\n",
              "      <td>1448.0</td>\n",
              "      <td>183.0</td>\n",
              "      <td>261.0</td>\n",
              "      <td>100.0</td>\n",
              "      <td>NaN</td>\n",
              "      <td>NaN</td>\n",
              "      <td>NaN</td>\n",
              "      <td>NaN</td>\n",
              "      <td>NaN</td>\n",
              "      <td>NaN</td>\n",
              "      <td>NaN</td>\n",
              "      <td>NaN</td>\n",
              "    </tr>\n",
              "    <tr>\n",
              "      <th>2649823</th>\n",
              "      <td>USW00094173</td>\n",
              "      <td>20000714</td>\n",
              "      <td>17.0</td>\n",
              "      <td>1830.0</td>\n",
              "      <td>161.0</td>\n",
              "      <td>278.0</td>\n",
              "      <td>44.0</td>\n",
              "      <td>NaN</td>\n",
              "      <td>NaN</td>\n",
              "      <td>NaN</td>\n",
              "      <td>NaN</td>\n",
              "      <td>NaN</td>\n",
              "      <td>NaN</td>\n",
              "      <td>NaN</td>\n",
              "      <td>NaN</td>\n",
              "    </tr>\n",
              "    <tr>\n",
              "      <th>2649824</th>\n",
              "      <td>USW00094173</td>\n",
              "      <td>20000715</td>\n",
              "      <td>21.0</td>\n",
              "      <td>1551.0</td>\n",
              "      <td>150.0</td>\n",
              "      <td>261.0</td>\n",
              "      <td>39.0</td>\n",
              "      <td>NaN</td>\n",
              "      <td>NaN</td>\n",
              "      <td>NaN</td>\n",
              "      <td>NaN</td>\n",
              "      <td>NaN</td>\n",
              "      <td>NaN</td>\n",
              "      <td>NaN</td>\n",
              "      <td>NaN</td>\n",
              "    </tr>\n",
              "    <tr>\n",
              "      <th>2649825</th>\n",
              "      <td>USW00094173</td>\n",
              "      <td>20000716</td>\n",
              "      <td>15.0</td>\n",
              "      <td>1241.0</td>\n",
              "      <td>172.0</td>\n",
              "      <td>256.0</td>\n",
              "      <td>83.0</td>\n",
              "      <td>NaN</td>\n",
              "      <td>NaN</td>\n",
              "      <td>NaN</td>\n",
              "      <td>NaN</td>\n",
              "      <td>NaN</td>\n",
              "      <td>NaN</td>\n",
              "      <td>NaN</td>\n",
              "      <td>NaN</td>\n",
              "    </tr>\n",
              "  </tbody>\n",
              "</table>\n",
              "<p>100 rows × 15 columns</p>\n",
              "</div>"
            ],
            "text/plain": [
              "Element   Station_ID      Date  AWND    PGTM   TAVG   TMAX   TMIN  TSUN  WT01  \\\n",
              "2649726  USW00094173  20000101   5.0  1449.0  -78.0  -44.0 -117.0   NaN   NaN   \n",
              "2649727  USW00094173  20000102  11.0  1516.0 -150.0  -89.0 -211.0   NaN   NaN   \n",
              "2649728  USW00094173  20000103   7.0  1312.0 -156.0 -106.0 -206.0   NaN   NaN   \n",
              "2649729  USW00094173  20000104   5.0  2109.0 -111.0  -67.0 -156.0   NaN   NaN   \n",
              "2649730  USW00094173  20000105  19.0  1526.0 -117.0  -72.0 -167.0   NaN   NaN   \n",
              "...              ...       ...   ...     ...    ...    ...    ...   ...   ...   \n",
              "2649821  USW00094173  20000405  38.0  1606.0    NaN    NaN    NaN   NaN   NaN   \n",
              "2649822  USW00094173  20000713   NaN  1448.0  183.0  261.0  100.0   NaN   NaN   \n",
              "2649823  USW00094173  20000714  17.0  1830.0  161.0  278.0   44.0   NaN   NaN   \n",
              "2649824  USW00094173  20000715  21.0  1551.0  150.0  261.0   39.0   NaN   NaN   \n",
              "2649825  USW00094173  20000716  15.0  1241.0  172.0  256.0   83.0   NaN   NaN   \n",
              "\n",
              "Element  WT04  WT09  WT11  WT16  WT18  WT22  \n",
              "2649726   NaN   NaN   NaN   NaN   NaN   NaN  \n",
              "2649727   NaN   NaN   NaN   NaN   NaN   NaN  \n",
              "2649728   NaN   NaN   NaN   NaN   NaN   NaN  \n",
              "2649729   NaN   NaN   NaN   NaN   NaN   NaN  \n",
              "2649730   NaN   NaN   NaN   NaN   NaN   NaN  \n",
              "...       ...   ...   ...   ...   ...   ...  \n",
              "2649821   NaN   NaN   NaN   NaN   NaN   NaN  \n",
              "2649822   NaN   NaN   NaN   NaN   NaN   NaN  \n",
              "2649823   NaN   NaN   NaN   NaN   NaN   NaN  \n",
              "2649824   NaN   NaN   NaN   NaN   NaN   NaN  \n",
              "2649825   NaN   NaN   NaN   NaN   NaN   NaN  \n",
              "\n",
              "[100 rows x 15 columns]"
            ]
          },
          "execution_count": 19,
          "metadata": {},
          "output_type": "execute_result"
        }
      ],
      "source": [
        "weather_up_df[weather_up_df[\"Station_ID\"] == \"USW00094173\"].head(100)"
      ]
    },
    {
      "cell_type": "code",
      "execution_count": 20,
      "metadata": {},
      "outputs": [
        {
          "data": {
            "application/vnd.microsoft.datawrangler.viewer.v0+json": {
              "columns": [
                {
                  "name": "index",
                  "rawType": "int64",
                  "type": "integer"
                },
                {
                  "name": "Station_ID",
                  "rawType": "object",
                  "type": "string"
                },
                {
                  "name": "Date",
                  "rawType": "int64",
                  "type": "integer"
                },
                {
                  "name": "Element",
                  "rawType": "object",
                  "type": "string"
                },
                {
                  "name": "DataValue",
                  "rawType": "int64",
                  "type": "integer"
                },
                {
                  "name": "CountryCode",
                  "rawType": "object",
                  "type": "string"
                }
              ],
              "conversionMethod": "pd.DataFrame",
              "ref": "8e4dd38c-1204-47e7-872f-d1e28d26ac02",
              "rows": [
                [
                  "25392",
                  "USW00094185",
                  "20000101",
                  "WT01",
                  "1",
                  "US"
                ],
                [
                  "25428",
                  "USW00094224",
                  "20000101",
                  "WT01",
                  "1",
                  "US"
                ],
                [
                  "25464",
                  "USW00094239",
                  "20000101",
                  "WT01",
                  "1",
                  "US"
                ],
                [
                  "25478",
                  "USW00094240",
                  "20000101",
                  "WT01",
                  "1",
                  "US"
                ],
                [
                  "25643",
                  "USW00094702",
                  "20000101",
                  "WT01",
                  "1",
                  "US"
                ],
                [
                  "25725",
                  "USW00094728",
                  "20000101",
                  "WT01",
                  "1",
                  "US"
                ],
                [
                  "25778",
                  "USW00094745",
                  "20000101",
                  "WT01",
                  "1",
                  "US"
                ],
                [
                  "25792",
                  "USW00094746",
                  "20000101",
                  "WT01",
                  "1",
                  "US"
                ],
                [
                  "25820",
                  "USW00094789",
                  "20000101",
                  "WT01",
                  "1",
                  "US"
                ],
                [
                  "25849",
                  "USW00094814",
                  "20000101",
                  "WT01",
                  "1",
                  "US"
                ],
                [
                  "25919",
                  "USW00094823",
                  "20000101",
                  "WT01",
                  "1",
                  "US"
                ],
                [
                  "25933",
                  "USW00094830",
                  "20000101",
                  "WT01",
                  "1",
                  "US"
                ],
                [
                  "25964",
                  "USW00094847",
                  "20000101",
                  "WT01",
                  "1",
                  "US"
                ],
                [
                  "26013",
                  "USW00094860",
                  "20000101",
                  "WT01",
                  "1",
                  "US"
                ],
                [
                  "26119",
                  "USW00094908",
                  "20000101",
                  "WT01",
                  "1",
                  "US"
                ],
                [
                  "26137",
                  "USW00094910",
                  "20000101",
                  "WT01",
                  "1",
                  "US"
                ],
                [
                  "26169",
                  "USW00094931",
                  "20000101",
                  "WT01",
                  "1",
                  "US"
                ],
                [
                  "26429",
                  "USW00093842",
                  "20000101",
                  "WT01",
                  "1",
                  "US"
                ],
                [
                  "26447",
                  "USW00093846",
                  "20000101",
                  "WT01",
                  "1",
                  "US"
                ],
                [
                  "26462",
                  "USW00093862",
                  "20000101",
                  "WT01",
                  "1",
                  "US"
                ],
                [
                  "26510",
                  "USW00093919",
                  "20000101",
                  "WT01",
                  "1",
                  "US"
                ],
                [
                  "26572",
                  "USW00093987",
                  "20000101",
                  "WT01",
                  "1",
                  "US"
                ],
                [
                  "26613",
                  "USW00093993",
                  "20000101",
                  "WT01",
                  "1",
                  "US"
                ],
                [
                  "26639",
                  "USW00094008",
                  "20000101",
                  "WT01",
                  "1",
                  "US"
                ],
                [
                  "26674",
                  "USW00094014",
                  "20000101",
                  "WT01",
                  "1",
                  "US"
                ],
                [
                  "26931",
                  "USW00093037",
                  "20000101",
                  "WT01",
                  "1",
                  "US"
                ],
                [
                  "27072",
                  "USW00093134",
                  "20000101",
                  "WT01",
                  "1",
                  "US"
                ],
                [
                  "27139",
                  "USW00093193",
                  "20000101",
                  "WT01",
                  "1",
                  "US"
                ],
                [
                  "27264",
                  "USW00093719",
                  "20000101",
                  "WT01",
                  "1",
                  "US"
                ],
                [
                  "27272",
                  "USW00093720",
                  "20000101",
                  "WT01",
                  "1",
                  "US"
                ],
                [
                  "27290",
                  "USW00093721",
                  "20000101",
                  "WT01",
                  "1",
                  "US"
                ],
                [
                  "27306",
                  "USW00093729",
                  "20000101",
                  "WT01",
                  "1",
                  "US"
                ],
                [
                  "27323",
                  "USW00093730",
                  "20000101",
                  "WT01",
                  "1",
                  "US"
                ],
                [
                  "27352",
                  "USW00093738",
                  "20000101",
                  "WT01",
                  "1",
                  "US"
                ],
                [
                  "27368",
                  "USW00093739",
                  "20000101",
                  "WT01",
                  "1",
                  "US"
                ],
                [
                  "27509",
                  "USW00093805",
                  "20000101",
                  "WT01",
                  "1",
                  "US"
                ],
                [
                  "27547",
                  "USW00093808",
                  "20000101",
                  "WT01",
                  "1",
                  "US"
                ],
                [
                  "27577",
                  "USW00093812",
                  "20000101",
                  "WT01",
                  "1",
                  "US"
                ],
                [
                  "27595",
                  "USW00093814",
                  "20000101",
                  "WT01",
                  "1",
                  "US"
                ],
                [
                  "27625",
                  "USW00093817",
                  "20000101",
                  "WT01",
                  "1",
                  "US"
                ],
                [
                  "27641",
                  "USW00093819",
                  "20000101",
                  "WT01",
                  "1",
                  "US"
                ],
                [
                  "27672",
                  "USW00093821",
                  "20000101",
                  "WT01",
                  "1",
                  "US"
                ],
                [
                  "28060",
                  "USW00093009",
                  "20000101",
                  "WT01",
                  "1",
                  "US"
                ],
                [
                  "28329",
                  "USW00053868",
                  "20000101",
                  "WT01",
                  "1",
                  "US"
                ],
                [
                  "28652",
                  "USW00025713",
                  "20000101",
                  "WT01",
                  "1",
                  "US"
                ],
                [
                  "28682",
                  "USW00026410",
                  "20000101",
                  "WT01",
                  "1",
                  "US"
                ],
                [
                  "28699",
                  "USW00026411",
                  "20000101",
                  "WT01",
                  "1",
                  "US"
                ],
                [
                  "28709",
                  "USW00026412",
                  "20000101",
                  "WT01",
                  "1",
                  "US"
                ],
                [
                  "28723",
                  "USW00026415",
                  "20000101",
                  "WT01",
                  "1",
                  "US"
                ],
                [
                  "28806",
                  "USW00026451",
                  "20000101",
                  "WT01",
                  "1",
                  "US"
                ]
              ],
              "shape": {
                "columns": 5,
                "rows": 100
              }
            },
            "text/html": [
              "<div>\n",
              "<style scoped>\n",
              "    .dataframe tbody tr th:only-of-type {\n",
              "        vertical-align: middle;\n",
              "    }\n",
              "\n",
              "    .dataframe tbody tr th {\n",
              "        vertical-align: top;\n",
              "    }\n",
              "\n",
              "    .dataframe thead th {\n",
              "        text-align: right;\n",
              "    }\n",
              "</style>\n",
              "<table border=\"1\" class=\"dataframe\">\n",
              "  <thead>\n",
              "    <tr style=\"text-align: right;\">\n",
              "      <th></th>\n",
              "      <th>Station_ID</th>\n",
              "      <th>Date</th>\n",
              "      <th>Element</th>\n",
              "      <th>DataValue</th>\n",
              "      <th>CountryCode</th>\n",
              "    </tr>\n",
              "  </thead>\n",
              "  <tbody>\n",
              "    <tr>\n",
              "      <th>25392</th>\n",
              "      <td>USW00094185</td>\n",
              "      <td>20000101</td>\n",
              "      <td>WT01</td>\n",
              "      <td>1</td>\n",
              "      <td>US</td>\n",
              "    </tr>\n",
              "    <tr>\n",
              "      <th>25428</th>\n",
              "      <td>USW00094224</td>\n",
              "      <td>20000101</td>\n",
              "      <td>WT01</td>\n",
              "      <td>1</td>\n",
              "      <td>US</td>\n",
              "    </tr>\n",
              "    <tr>\n",
              "      <th>25464</th>\n",
              "      <td>USW00094239</td>\n",
              "      <td>20000101</td>\n",
              "      <td>WT01</td>\n",
              "      <td>1</td>\n",
              "      <td>US</td>\n",
              "    </tr>\n",
              "    <tr>\n",
              "      <th>25478</th>\n",
              "      <td>USW00094240</td>\n",
              "      <td>20000101</td>\n",
              "      <td>WT01</td>\n",
              "      <td>1</td>\n",
              "      <td>US</td>\n",
              "    </tr>\n",
              "    <tr>\n",
              "      <th>25643</th>\n",
              "      <td>USW00094702</td>\n",
              "      <td>20000101</td>\n",
              "      <td>WT01</td>\n",
              "      <td>1</td>\n",
              "      <td>US</td>\n",
              "    </tr>\n",
              "    <tr>\n",
              "      <th>...</th>\n",
              "      <td>...</td>\n",
              "      <td>...</td>\n",
              "      <td>...</td>\n",
              "      <td>...</td>\n",
              "      <td>...</td>\n",
              "    </tr>\n",
              "    <tr>\n",
              "      <th>31554</th>\n",
              "      <td>USC00166394</td>\n",
              "      <td>20000101</td>\n",
              "      <td>WT01</td>\n",
              "      <td>1</td>\n",
              "      <td>US</td>\n",
              "    </tr>\n",
              "    <tr>\n",
              "      <th>31664</th>\n",
              "      <td>USC00162534</td>\n",
              "      <td>20000101</td>\n",
              "      <td>WT01</td>\n",
              "      <td>1</td>\n",
              "      <td>US</td>\n",
              "    </tr>\n",
              "    <tr>\n",
              "      <th>31686</th>\n",
              "      <td>USC00162981</td>\n",
              "      <td>20000101</td>\n",
              "      <td>WT01</td>\n",
              "      <td>1</td>\n",
              "      <td>US</td>\n",
              "    </tr>\n",
              "    <tr>\n",
              "      <th>31692</th>\n",
              "      <td>USC00163079</td>\n",
              "      <td>20000101</td>\n",
              "      <td>WT01</td>\n",
              "      <td>1</td>\n",
              "      <td>US</td>\n",
              "    </tr>\n",
              "    <tr>\n",
              "      <th>31720</th>\n",
              "      <td>USC00163695</td>\n",
              "      <td>20000101</td>\n",
              "      <td>WT01</td>\n",
              "      <td>1</td>\n",
              "      <td>US</td>\n",
              "    </tr>\n",
              "  </tbody>\n",
              "</table>\n",
              "<p>100 rows × 5 columns</p>\n",
              "</div>"
            ],
            "text/plain": [
              "        Station_ID      Date Element  DataValue CountryCode\n",
              "25392  USW00094185  20000101    WT01          1          US\n",
              "25428  USW00094224  20000101    WT01          1          US\n",
              "25464  USW00094239  20000101    WT01          1          US\n",
              "25478  USW00094240  20000101    WT01          1          US\n",
              "25643  USW00094702  20000101    WT01          1          US\n",
              "...            ...       ...     ...        ...         ...\n",
              "31554  USC00166394  20000101    WT01          1          US\n",
              "31664  USC00162534  20000101    WT01          1          US\n",
              "31686  USC00162981  20000101    WT01          1          US\n",
              "31692  USC00163079  20000101    WT01          1          US\n",
              "31720  USC00163695  20000101    WT01          1          US\n",
              "\n",
              "[100 rows x 5 columns]"
            ]
          },
          "execution_count": 20,
          "metadata": {},
          "output_type": "execute_result"
        }
      ],
      "source": [
        "# weather_df.head(100)\n",
        "weather_df[weather_df[\"Element\"] == \"WT01\"].head(100)"
      ]
    },
    {
      "cell_type": "markdown",
      "metadata": {
        "id": "uFQo3ycuO-v6"
      },
      "source": [
        "# Section 2"
      ]
    },
    {
      "cell_type": "markdown",
      "metadata": {},
      "source": [
        "Section 2 content"
      ]
    },
    {
      "cell_type": "code",
      "execution_count": null,
      "metadata": {},
      "outputs": [
        {
          "name": "stdout",
          "output_type": "stream",
          "text": [
            "Not_to_be_shared_to_repo\\2000.csv.gz\n",
            "(2684235, 15)\n",
            "Not_to_be_shared_to_repo\\2001.csv.gz\n",
            "(2740796, 15)\n"
          ]
        }
      ],
      "source": [
        "\n",
        "\n",
        "ElementList = [\n",
        "  \"WT16\",  # Rain (may include freezing rain, drizzle, and freezing drizzle)\n",
        "  \"WT01\",  # Fog, ice fog, or freezing fog (may include heavy fog)\n",
        "  \"WT04\",  # Ice pellets, sleet, snow pellets, or small hail\"\n",
        "  \"WT18\",  # Snow, snow pellets, snow grains, or ice crystals\n",
        "  'WT22',  # Ice fog or freezing fog\n",
        "  \"WT09\",  # Blowing or drifting snow\n",
        "  \"TMAX\",  # Maximum temperature (tenths of degrees C)\n",
        "  \"TMIN\",  # Minimum temperature (tenths of degrees C)\n",
        "  \"TAVG\",  # Average temperature (tenths of degrees C)\n",
        "  \"TSUN\",  # Daily total sunshine (minutes)\n",
        "  \"AWND\",  # Average daily wind speed (tenths of meters per second)\n",
        "  \"PGTM\",  # Peak gust time (hours and minutes, i.e., HHMM)\n",
        "  'WT11',  # High or damaging winds\n",
        "  ]\n",
        "\n",
        "weather_df  = pd.DataFrame()\n",
        "weather_up_df = pd.DataFrame()\n",
        "\n",
        "# list of files to load\n",
        "FileToLoad = [\"2000.csv.gz\",\n",
        "              \"2001.csv.gz\",\n",
        "              # \"2002.csv.gz\",\n",
        "              # \"2003.csv.gz\",\n",
        "              # \"2004.csv.gz\",\n",
        "              # \"2005.csv.gz\",\n",
        "              # \"2006.csv.gz\",\n",
        "              # \"2007.csv.gz\",\n",
        "              # \"2008.csv.gz\",\n",
        "              # \"2009.csv.gz\",\n",
        "              # \"2010.csv.gz\",\n",
        "              # \"2011.csv.gz\",\n",
        "              # \"2012.csv.gz\",\n",
        "              # \"2013.csv.gz\",\n",
        "              # \"2014.csv.gz\",\n",
        "              # \"2015.csv.gz\",\n",
        "              # \"2016.csv.gz\",\n",
        "              ]\n",
        "\n",
        "# load a file from the list above then process it and append it to weather_df\n",
        "for file in FileToLoad:\n",
        "    # add filename to path \"Not_to_be_shared_to_repo/\"\n",
        "    filepath = os.path.join(\"Not_to_be_shared_to_repo\", file)\n",
        "    # setup df\n",
        "    weather_df  = pd.DataFrame()\n",
        "    weather_up_df = pd.DataFrame()\n",
        "    # Print filepath\n",
        "    print(filepath)\n",
        "    # load the file\n",
        "    weather_df = pd.read_csv(filepath, header=None)\n",
        "    # Name columns\n",
        "    weather_df.columns = [\"Station_ID\", \"Date\", \"Element\", \"DataValue\", \"MFlag\", \"QFlag\", \"SFlag\", \"ObsTime\"]\n",
        "    # Extract Country Code\n",
        "    weather_df['CountryCode'] = weather_df['Station_ID'].str[:2]\n",
        "    # Drop unneccesary columns\n",
        "    weather_df.drop([\"MFlag\", \"QFlag\", \"SFlag\", \"ObsTime\"], axis=1, inplace=True)\n",
        "    # Deduplicate weather_df\n",
        "    weather_df = weather_df.drop_duplicates(subset=[\"Station_ID\", \"Element\", \"Date\"], keep='first')\n",
        "    # filter weather_df to only include rows where CountryCode =\"US\"\n",
        "    weather_df = weather_df[weather_df['CountryCode']==\"US\"]\n",
        "    # filter weather_df to only include rows where Element in ElementList\n",
        "    weather_df = weather_df[weather_df['Element'].isin(ElementList)]\n",
        "    # unpack weather_df Element in to seperate columns with value eq to DataValue where Element = TMAX, grouped by Station and Date\n",
        "    weather_df = weather_df.pivot_table(index=[\"Station_ID\", \"Date\"],\n",
        "                                        columns=\"Element\",\n",
        "                                        values=\"DataValue\",\n",
        "                                        aggfunc='first').reset_index()\n",
        "    # print the shape of weather_df\n",
        "    print(weather_df.shape)\n",
        "    # add filename to path \"Not_to_be_shared_to_repo/\"\n",
        "    filename = f\"Us_{file}_Weather_Unpacked.zip\"\n",
        "    filepath = os.path.join(\"Not_to_be_shared_to_repo\", filename)\n",
        "    # implement save append to csv file\n",
        "    weather_df.to_csv(filepath, index=True, mode='a', header=True, compression='zip')\n",
        "    # drop weather_df and weather_up_df\n",
        "    del weather_df\n",
        "    # print file name\n",
        "\n"
      ]
    },
    {
      "cell_type": "code",
      "execution_count": null,
      "metadata": {},
      "outputs": [
        {
          "name": "stdout",
          "output_type": "stream",
          "text": [
            "Us_2000.csv.gz_Weather_Unpacked.zip\n",
            "(2684235, 16)\n",
            "Us_2001.csv.gz_Weather_Unpacked.zip\n",
            "(5425031, 16)\n",
            "Us_2002.csv.gz_Weather_Unpacked.zip\n",
            "(8251463, 16)\n",
            "Us_2003.csv.gz_Weather_Unpacked.zip\n",
            "(11183223, 16)\n",
            "Us_2004.csv.gz_Weather_Unpacked.zip\n",
            "(14152093, 16)\n",
            "Us_2005.csv.gz_Weather_Unpacked.zip\n",
            "(17126770, 16)\n",
            "Us_2006.csv.gz_Weather_Unpacked.zip\n",
            "(20123474, 16)\n",
            "Us_2007.csv.gz_Weather_Unpacked.zip\n",
            "(23142151, 16)\n",
            "Us_2008.csv.gz_Weather_Unpacked.zip\n",
            "(26149500, 16)\n",
            "Us_2009.csv.gz_Weather_Unpacked.zip\n",
            "(29169473, 16)\n",
            "Us_2010.csv.gz_Weather_Unpacked.zip\n",
            "(32222547, 16)\n",
            "Us_2011.csv.gz_Weather_Unpacked.zip\n",
            "(35358029, 16)\n",
            "Us_2012.csv.gz_Weather_Unpacked.zip\n",
            "(38472487, 16)\n",
            "Us_2013.csv.gz_Weather_Unpacked.zip\n",
            "(41478627, 16)\n",
            "Us_2014.csv.gz_Weather_Unpacked.zip\n",
            "(44432646, 16)\n",
            "Us_2015.csv.gz_Weather_Unpacked.zip\n",
            "(47340127, 16)\n",
            "Us_2016.csv.gz_Weather_Unpacked.zip\n",
            "(50226757, 16)\n"
          ]
        }
      ],
      "source": [
        "FileToLoad = [\"Us_2000.csv.gz_Weather_Unpacked.zip\",\n",
        "              \"Us_2001.csv.gz_Weather_Unpacked.zip\",\n",
        "              \"Us_2002.csv.gz_Weather_Unpacked.zip\",\n",
        "              \"Us_2003.csv.gz_Weather_Unpacked.zip\",\n",
        "              \"Us_2004.csv.gz_Weather_Unpacked.zip\",\n",
        "              \"Us_2005.csv.gz_Weather_Unpacked.zip\",\n",
        "              \"Us_2006.csv.gz_Weather_Unpacked.zip\",\n",
        "              \"Us_2007.csv.gz_Weather_Unpacked.zip\",\n",
        "              \"Us_2008.csv.gz_Weather_Unpacked.zip\",\n",
        "              \"Us_2009.csv.gz_Weather_Unpacked.zip\",\n",
        "              \"Us_2010.csv.gz_Weather_Unpacked.zip\",\n",
        "              \"Us_2011.csv.gz_Weather_Unpacked.zip\",\n",
        "              \"Us_2012.csv.gz_Weather_Unpacked.zip\",\n",
        "              \"Us_2013.csv.gz_Weather_Unpacked.zip\",\n",
        "              \"Us_2014.csv.gz_Weather_Unpacked.zip\",\n",
        "              \"Us_2015.csv.gz_Weather_Unpacked.zip\",\n",
        "              \"Us_2016.csv.gz_Weather_Unpacked.zip\",\n",
        "              ]\n",
        "\n",
        "weather_df = pd.DataFrame()\n",
        "weather_up_df = pd.DataFrame()\n",
        "\n",
        "# load file from list and append to weather_final_df\n",
        "for file in FileToLoad:\n",
        "    # set path for fileload\n",
        "    loadfile = \"Not_to_be_shared_to_repo/\"\n",
        "    filepath = os.path.join(loadfile, file)\n",
        "    # load file\n",
        "    weather_df = pd.read_csv(filepath)\n",
        "    # append to weather_final_df\n",
        "    weather_up_df = pd.concat([weather_up_df, weather_df], ignore_index=True)\n",
        "    # print file name\n",
        "    print(file)\n",
        "    # print shape of weather_final_df\n",
        "    print(weather_up_df.shape)\n",
        "    # drop weather_df\n",
        "\n",
        "# save weather_final_df to a csv file called Us_Weather_Final.csv\n",
        "weather_up_df.to_csv(\"Not_to_be_shared_to_repo/Us_Weather_Final.zip\", index=True, header=True, compression='zip')"
      ]
    },
    {
      "cell_type": "markdown",
      "metadata": {},
      "source": [
        "---"
      ]
    },
    {
      "cell_type": "code",
      "execution_count": null,
      "metadata": {},
      "outputs": [],
      "source": []
    }
  ],
  "metadata": {
    "accelerator": "GPU",
    "colab": {
      "name": "Data Practitioner Jupyter Notebook.ipynb",
      "provenance": [],
      "toc_visible": true
    },
    "kernelspec": {
      "display_name": ".venv",
      "language": "python",
      "name": "python3"
    },
    "language_info": {
      "codemirror_mode": {
        "name": "ipython",
        "version": 3
      },
      "file_extension": ".py",
      "mimetype": "text/x-python",
      "name": "python",
      "nbconvert_exporter": "python",
      "pygments_lexer": "ipython3",
      "version": "3.12.2"
    },
    "orig_nbformat": 2
  },
  "nbformat": 4,
  "nbformat_minor": 2
}
