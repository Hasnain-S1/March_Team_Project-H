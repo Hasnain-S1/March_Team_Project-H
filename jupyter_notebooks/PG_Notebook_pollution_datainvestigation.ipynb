{
 "cells": [
  {
   "cell_type": "code",
   "execution_count": null,
   "metadata": {},
   "outputs": [],
   "source": [
    "import os\n",
    "import pandas as pd\n",
    "current_dir = os.getcwd()\n",
    "print(\"initial Working directory\",current_dir)\n",
    "os.chdir(os.path.dirname(current_dir))\n",
    "print(\"You set a new current directory\")\n",
    "current_dir = os.getcwd()\n",
    "print(\"Final Working Dir\",current_dir)"
   ]
  },
  {
   "cell_type": "code",
   "execution_count": null,
   "metadata": {},
   "outputs": [],
   "source": [
    "# load pollution_us_2000_2016.csv.zip\n",
    "pollution = pd.read_csv('source_data/pollution_us_2000_2016.csv.zip', compression='zip')\n",
    "# Drop rows with null values\n",
    "pollution = pollution.dropna()\n",
    "print(pollution.head())\n",
    "print(pollution.info())\n",
    "print(pollution.describe())\n",
    "# produce summary by city, county, state, counting the number of records, and the number of unique dates add count of unique sites\n",
    "pollution['Date Local'] = pd.to_datetime(pollution['Date Local'])\n",
    "pollution['year'] = pollution['Date Local'].dt.year\n",
    "pollution_summary = pollution.groupby(['City', 'County', 'State', 'year']).agg({'Date Local': ['count', 'nunique']})\n",
    "pollution_summary.columns = ['Record Count', 'Unique Dates']\n",
    "print(pollution_summary)"
   ]
  },
  {
   "cell_type": "code",
   "execution_count": null,
   "metadata": {},
   "outputs": [],
   "source": [
    "pollution_summary = pollution_summary.reset_index()\n",
    "pollution_summary = pollution_summary[pollution_summary['Unique Dates'] >= 350]\n",
    "pollution_summary = pollution_summary.groupby(['City', 'County', 'State']).agg({'year': ['min', 'max']})\n",
    "pollution_summary.columns = ['Min Year', 'Max Year']\n",
    "pollution_summary['Year Difference'] = pollution_summary['Max Year'] - pollution_summary['Min Year']\n",
    "pollution_summary = pollution_summary.sort_values('Year Difference', ascending=False)\n",
    "print(pollution_summary)\n",
    "pollution_data_available = pollution_summary.reset_index()\n",
    "pollution_data_available"
   ]
  },
  {
   "cell_type": "code",
   "execution_count": null,
   "metadata": {},
   "outputs": [],
   "source": [
    "stations_fixed = pd.read_fwf('source_data/ghcnd-stations.txt', widths=[11, 9, 10, 7, 3, 31, 4, 4, 5], header=None)\n",
    "stations_fixed.columns = ['StationId', 'Latitude', 'Longitude', 'Elevation', 'StateCode', 'Name', 'GSN Flag', 'HCN/CRN Flag', 'WMO ID']\n",
    "stations_fixed['Country'] = stations_fixed['StationId'].str[:2]\n",
    "stations_fixed = stations_fixed[stations_fixed['Country'] == 'US']\n",
    "states_fixed = pd.read_fwf('source_data/ghcnd-states.txt', widths=[2, 46], header=None)\n",
    "states_fixed.columns = ['StateCode', 'State']\n",
    "print(\"states_fixed\", states_fixed.head())\n",
    "print(\"stations_fixed\", stations_fixed.head())\n",
    "stations_fixed = pd.merge(stations_fixed, states_fixed, on='StateCode')\n",
    "print(\"stations_fixed_post_merge\",stations_fixed.head())"
   ]
  },
  {
   "cell_type": "code",
   "execution_count": null,
   "metadata": {},
   "outputs": [],
   "source": [
    "print(pollution_summary.columns)\n",
    "print(pollution_summary.head())\n",
    "print(states_fixed.columns)\n",
    "print(states_fixed.head())\n",
    "print(stations_fixed.columns)\n",
    "print(stations_fixed.head())"
   ]
  },
  {
   "cell_type": "code",
   "execution_count": null,
   "metadata": {},
   "outputs": [],
   "source": [
    "pollution_summary = pollution_summary.reset_index()\n",
    "pollution_summary['State'] = pollution_summary['State'].str.upper().str.strip()\n",
    "states_fixed['State'] = states_fixed['State'].str.upper().str.strip()\n",
    "pollution_summary_inc_sc = pd.merge(pollution_summary, states_fixed, left_on='State', right_on='State')\n",
    "print(\"pollution_summary_post_merge\", pollution_summary_inc_sc.head())\n",
    "stations_fixed_gb = stations_fixed.groupby(['StateCode', 'State'])['StationId'].count().reset_index()\n",
    "stations_fixed_gb.columns = ['StateCode', 'State', 'Station Count']\n",
    "print(\"stations_fixed_station_count\", stations_fixed_gb.head())\n",
    "pollution_summary_stat_count = pd.merge(pollution_summary_inc_sc, stations_fixed_gb, on='StateCode')\n",
    "print(\"pollution_summary_ merge2\", pollution_summary_stat_count.head())\n",
    "states_fixed = pd.merge(states_fixed, stations_fixed_gb, on='State')\n",
    "print(\"states_fixed_stations_merge\", states_fixed.head())\n",
    "states_fixed = states_fixed.sort_values('Station Count', ascending=False)\n",
    "print(\"states_fixed_sort\", states_fixed)\n",
    "pollution_summary_stat_count"
   ]
  },
  {
   "cell_type": "code",
   "execution_count": null,
   "metadata": {},
   "outputs": [],
   "source": [
    "states_10_years = pollution_summary_stat_count[pollution_summary_stat_count['Year Difference'] >= 10]"
   ]
  },
  {
   "cell_type": "code",
   "execution_count": null,
   "metadata": {},
   "outputs": [],
   "source": [
    "station_list = states_10_years['StationId'].tolist()\n",
    "station_list"
   ]
  }
 ],
 "metadata": {
  "kernelspec": {
   "display_name": ".venv",
   "language": "python",
   "name": "python3"
  },
  "language_info": {
   "codemirror_mode": {
    "name": "ipython",
    "version": 3
   },
   "file_extension": ".py",
   "mimetype": "text/x-python",
   "name": "python",
   "nbconvert_exporter": "python",
   "pygments_lexer": "ipython3",
   "version": "3.12.2"
  }
 },
 "nbformat": 4,
 "nbformat_minor": 2
}
