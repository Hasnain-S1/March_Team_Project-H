{
  "cells": [
    {
      "cell_type": "markdown",
      "metadata": {
        "id": "0aStgWSO0E0E"
      },
      "source": [
        "# **(ADD THE NOTEBOOK NAME HERE)**"
      ]
    },
    {
      "cell_type": "markdown",
      "metadata": {
        "id": "1eLEkw5O0ECa"
      },
      "source": [
        "## Objectives\n",
        "\n",
        "* Write your notebook objective here, for example, \"Fetch data from Kaggle and save as raw data\", or \"engineer features for modelling\"\n",
        "\n",
        "## Inputs\n",
        "\n",
        "* Write down which data or information you need to run the notebook \n",
        "\n",
        "## Outputs\n",
        "\n",
        "* Write here which files, code or artefacts you generate by the end of the notebook \n",
        "\n",
        "## Additional Comments\n",
        "\n",
        "* If you have any additional comments that don't fit in the previous bullets, please state them here. \n",
        "\n"
      ]
    },
    {
      "cell_type": "markdown",
      "metadata": {
        "id": "9uWZXH9LwoQg"
      },
      "source": [
        "---"
      ]
    },
    {
      "cell_type": "markdown",
      "metadata": {
        "id": "cqP-UeN-z3i2"
      },
      "source": [
        "# Change working directory"
      ]
    },
    {
      "cell_type": "markdown",
      "metadata": {},
      "source": [
        "* We are assuming you will store the notebooks in a subfolder, therefore when running the notebook in the editor, you will need to change the working directory"
      ]
    },
    {
      "cell_type": "markdown",
      "metadata": {
        "id": "aOGIGS-uz3i2"
      },
      "source": [
        "We need to change the working directory from its current folder to its parent folder\n",
        "* We access the current directory with os.getcwd()"
      ]
    },
    {
      "cell_type": "code",
      "execution_count": 336,
      "metadata": {
        "id": "wZfF_j-Bz3i4",
        "outputId": "66943449-1436-4c3d-85c7-b85f9f78349b"
      },
      "outputs": [
        {
          "data": {
            "text/plain": [
              "'c:\\\\'"
            ]
          },
          "execution_count": 336,
          "metadata": {},
          "output_type": "execute_result"
        }
      ],
      "source": [
        "import os\n",
        "current_dir = os.getcwd()\n",
        "current_dir"
      ]
    },
    {
      "cell_type": "markdown",
      "metadata": {
        "id": "9MWW8E7lz3i7"
      },
      "source": [
        "We want to make the parent of the current directory the new current directory\n",
        "* os.path.dirname() gets the parent directory\n",
        "* os.chir() defines the new current directory"
      ]
    },
    {
      "cell_type": "code",
      "execution_count": 337,
      "metadata": {
        "id": "TwHsQRWjz3i9",
        "outputId": "86849db3-cd2f-4cc5-ebb8-2d0caafa1a2c"
      },
      "outputs": [
        {
          "name": "stdout",
          "output_type": "stream",
          "text": [
            "You set a new current directory\n"
          ]
        }
      ],
      "source": [
        "os.chdir(os.path.dirname(current_dir))\n",
        "print(\"You set a new current directory\")"
      ]
    },
    {
      "cell_type": "markdown",
      "metadata": {
        "id": "M_xPk_Ijz3i-"
      },
      "source": [
        "Confirm the new current directory"
      ]
    },
    {
      "cell_type": "code",
      "execution_count": 338,
      "metadata": {
        "id": "vz3S-_kjz3jA",
        "outputId": "00b79ae4-75d0-4a96-d193-ac9ef9847ea2"
      },
      "outputs": [
        {
          "data": {
            "text/plain": [
              "'c:\\\\'"
            ]
          },
          "execution_count": 338,
          "metadata": {},
          "output_type": "execute_result"
        }
      ],
      "source": [
        "current_dir = os.getcwd()\n",
        "current_dir"
      ]
    },
    {
      "cell_type": "markdown",
      "metadata": {
        "id": "-mavJ8DibrcQ"
      },
      "source": [
        "# Section 1"
      ]
    },
    {
      "cell_type": "markdown",
      "metadata": {},
      "source": [
        "Section 1 content"
      ]
    },
    {
      "cell_type": "code",
      "execution_count": 339,
      "metadata": {},
      "outputs": [
        {
          "name": "stdout",
          "output_type": "stream",
          "text": [
            "   Unnamed: 0  State Code  County Code  Site Num  \\\n",
            "0           0           4           13      3002   \n",
            "1           1           4           13      3002   \n",
            "2           2           4           13      3002   \n",
            "3           3           4           13      3002   \n",
            "4           4           4           13      3002   \n",
            "\n",
            "                                   Address    State    County     City  \\\n",
            "0  1645 E ROOSEVELT ST-CENTRAL PHOENIX STN  Arizona  Maricopa  Phoenix   \n",
            "1  1645 E ROOSEVELT ST-CENTRAL PHOENIX STN  Arizona  Maricopa  Phoenix   \n",
            "2  1645 E ROOSEVELT ST-CENTRAL PHOENIX STN  Arizona  Maricopa  Phoenix   \n",
            "3  1645 E ROOSEVELT ST-CENTRAL PHOENIX STN  Arizona  Maricopa  Phoenix   \n",
            "4  1645 E ROOSEVELT ST-CENTRAL PHOENIX STN  Arizona  Maricopa  Phoenix   \n",
            "\n",
            "   Date Local          NO2 Units  ...          SO2 Units  SO2 Mean  \\\n",
            "0  2000-01-01  Parts per billion  ...  Parts per billion  3.000000   \n",
            "1  2000-01-01  Parts per billion  ...  Parts per billion  3.000000   \n",
            "2  2000-01-01  Parts per billion  ...  Parts per billion  2.975000   \n",
            "3  2000-01-01  Parts per billion  ...  Parts per billion  2.975000   \n",
            "4  2000-01-02  Parts per billion  ...  Parts per billion  1.958333   \n",
            "\n",
            "   SO2 1st Max Value  SO2 1st Max Hour SO2 AQI           CO Units   CO Mean  \\\n",
            "0                9.0                21    13.0  Parts per million  1.145833   \n",
            "1                9.0                21    13.0  Parts per million  0.878947   \n",
            "2                6.6                23     NaN  Parts per million  1.145833   \n",
            "3                6.6                23     NaN  Parts per million  0.878947   \n",
            "4                3.0                22     4.0  Parts per million  0.850000   \n",
            "\n",
            "   CO 1st Max Value  CO 1st Max Hour CO AQI  \n",
            "0               4.2               21    NaN  \n",
            "1               2.2               23   25.0  \n",
            "2               4.2               21    NaN  \n",
            "3               2.2               23   25.0  \n",
            "4               1.6               23    NaN  \n",
            "\n",
            "[5 rows x 29 columns]\n"
          ]
        }
      ],
      "source": [
        "import pandas as pd\n",
        "import numpy as np\n",
        "import matplotlib.pyplot as plt\n",
        "import seaborn as sns\n",
        "import zipfile\n",
        "\n",
        "# Path to the ZIP file\n",
        "zip_path = r\"C:\\Users\\seebi\\downloads\\VSCODE_Projects\\March_Team_Project\\Source_Data\\pollution_us_2000_2016.csv.zip\"\n",
        "\n",
        "# Read CSV directly from ZIP\n",
        "with zipfile.ZipFile(zip_path) as z:\n",
        "    with z.open(\"pollution_us_2000_2016.csv\") as file:\n",
        "        pollution = pd.read_csv(file)\n",
        "\n",
        "# Display the first few rows\n",
        "print(pollution.head())\n"
      ]
    },
    {
      "cell_type": "code",
      "execution_count": 340,
      "metadata": {},
      "outputs": [
        {
          "name": "stdout",
          "output_type": "stream",
          "text": [
            "Unnamed: 0                0\n",
            "State Code                0\n",
            "County Code               0\n",
            "Site Num                  0\n",
            "Address                   0\n",
            "State                     0\n",
            "County                    0\n",
            "City                      0\n",
            "Date Local                0\n",
            "NO2 Units                 0\n",
            "NO2 Mean                  0\n",
            "NO2 1st Max Value         0\n",
            "NO2 1st Max Hour          0\n",
            "NO2 AQI                   0\n",
            "O3 Units                  0\n",
            "O3 Mean                   0\n",
            "O3 1st Max Value          0\n",
            "O3 1st Max Hour           0\n",
            "O3 AQI                    0\n",
            "SO2 Units                 0\n",
            "SO2 Mean                  0\n",
            "SO2 1st Max Value         0\n",
            "SO2 1st Max Hour          0\n",
            "SO2 AQI              872907\n",
            "CO Units                  0\n",
            "CO Mean                   0\n",
            "CO 1st Max Value          0\n",
            "CO 1st Max Hour           0\n",
            "CO AQI               873323\n",
            "dtype: int64\n"
          ]
        }
      ],
      "source": [
        "# Check for missing values in each column\n",
        "print(pollution.isnull().sum())\n"
      ]
    },
    {
      "cell_type": "code",
      "execution_count": 341,
      "metadata": {},
      "outputs": [
        {
          "name": "stdout",
          "output_type": "stream",
          "text": [
            "Unnamed: 0                NaN\n",
            "State Code                NaN\n",
            "County Code               NaN\n",
            "Site Num                  NaN\n",
            "Address                   NaN\n",
            "State                     NaN\n",
            "County                    NaN\n",
            "City                      NaN\n",
            "Date Local                NaN\n",
            "NO2 Units                 NaN\n",
            "NO2 Mean                  NaN\n",
            "NO2 1st Max Value         NaN\n",
            "NO2 1st Max Hour          NaN\n",
            "NO2 AQI                   NaN\n",
            "O3 Units                  NaN\n",
            "O3 Mean                   NaN\n",
            "O3 1st Max Value          NaN\n",
            "O3 1st Max Hour           NaN\n",
            "O3 AQI                    NaN\n",
            "SO2 Units                 NaN\n",
            "SO2 Mean                  NaN\n",
            "SO2 1st Max Value         NaN\n",
            "SO2 1st Max Hour          NaN\n",
            "SO2 AQI              1.000000\n",
            "CO Units                  NaN\n",
            "CO Mean                   NaN\n",
            "CO 1st Max Value          NaN\n",
            "CO 1st Max Hour           NaN\n",
            "CO AQI              -0.000011\n",
            "Name: SO2 AQI, dtype: float64\n",
            "Unnamed: 0                NaN\n",
            "State Code                NaN\n",
            "County Code               NaN\n",
            "Site Num                  NaN\n",
            "Address                   NaN\n",
            "State                     NaN\n",
            "County                    NaN\n",
            "City                      NaN\n",
            "Date Local                NaN\n",
            "NO2 Units                 NaN\n",
            "NO2 Mean                  NaN\n",
            "NO2 1st Max Value         NaN\n",
            "NO2 1st Max Hour          NaN\n",
            "NO2 AQI                   NaN\n",
            "O3 Units                  NaN\n",
            "O3 Mean                   NaN\n",
            "O3 1st Max Value          NaN\n",
            "O3 1st Max Hour           NaN\n",
            "O3 AQI                    NaN\n",
            "SO2 Units                 NaN\n",
            "SO2 Mean                  NaN\n",
            "SO2 1st Max Value         NaN\n",
            "SO2 1st Max Hour          NaN\n",
            "SO2 AQI             -0.000011\n",
            "CO Units                  NaN\n",
            "CO Mean                   NaN\n",
            "CO 1st Max Value          NaN\n",
            "CO 1st Max Hour           NaN\n",
            "CO AQI               1.000000\n",
            "Name: CO AQI, dtype: float64\n"
          ]
        }
      ],
      "source": [
        "# Check correlation of missing values\n",
        "missing_corr = pollution.isnull().astype(int).corr()\n",
        "print(missing_corr[\"SO2 AQI\"])\n",
        "print(missing_corr[\"CO AQI\"])"
      ]
    },
    {
      "cell_type": "code",
      "execution_count": 342,
      "metadata": {},
      "outputs": [
        {
          "name": "stdout",
          "output_type": "stream",
          "text": [
            "State\n",
            "Alabama                   1562\n",
            "Alaska                     987\n",
            "Arizona                  34915\n",
            "Arkansas                 17666\n",
            "California              287910\n",
            "Colorado                 17590\n",
            "Connecticut              14964\n",
            "Country Of Mexico         4752\n",
            "Delaware                  1815\n",
            "District Of Columbia     12835\n",
            "Florida                  12959\n",
            "Georgia                   3861\n",
            "Hawaii                   10116\n",
            "Idaho                      912\n",
            "Illinois                 25056\n",
            "Indiana                   6962\n",
            "Iowa                     12921\n",
            "Kansas                   15737\n",
            "Kentucky                  7342\n",
            "Louisiana                11936\n",
            "Maine                    11808\n",
            "Maryland                 11766\n",
            "Massachusetts            10784\n",
            "Michigan                  4091\n",
            "Minnesota                 1747\n",
            "Missouri                  9888\n",
            "Nevada                    4849\n",
            "New Hampshire             4647\n",
            "New Jersey               13364\n",
            "New Mexico                3557\n",
            "New York                 35238\n",
            "North Carolina           18563\n",
            "North Dakota              5509\n",
            "Ohio                     11465\n",
            "Oklahoma                 17191\n",
            "Oregon                    5896\n",
            "Pennsylvania             94353\n",
            "Rhode Island              3162\n",
            "South Carolina            3268\n",
            "South Dakota              4158\n",
            "Tennessee                 2921\n",
            "Texas                    61577\n",
            "Utah                      4334\n",
            "Virginia                 18211\n",
            "Washington                 480\n",
            "Wisconsin                  758\n",
            "Wyoming                   6524\n",
            "dtype: int64\n"
          ]
        }
      ],
      "source": [
        "missing_by_state = pollution[pollution[\"SO2 AQI\"].isnull()].groupby(\"State\").size()\n",
        "print(missing_by_state)\n"
      ]
    },
    {
      "cell_type": "code",
      "execution_count": 343,
      "metadata": {},
      "outputs": [
        {
          "name": "stdout",
          "output_type": "stream",
          "text": [
            "Year\n",
            "2000    45818\n",
            "2001    44730\n",
            "2002    46763\n",
            "2003    43191\n",
            "2004    41053\n",
            "2005    42605\n",
            "2006    50411\n",
            "2007    57676\n",
            "2008    59758\n",
            "2009    52009\n",
            "2010    51971\n",
            "2011    64597\n",
            "2012    64057\n",
            "2013    67259\n",
            "2014    65741\n",
            "2015    62973\n",
            "2016    12295\n",
            "dtype: int64\n"
          ]
        }
      ],
      "source": [
        "pollution[\"Year\"] = pd.to_datetime(pollution[\"Date Local\"]).dt.year\n",
        "missing_by_year = pollution[pollution[\"SO2 AQI\"].isnull()].groupby(\"Year\").size()\n",
        "print(missing_by_year)\n"
      ]
    },
    {
      "cell_type": "code",
      "execution_count": 344,
      "metadata": {},
      "outputs": [
        {
          "name": "stdout",
          "output_type": "stream",
          "text": [
            "                      SO2 Missing %  CO Missing %\n",
            "State                                            \n",
            "Michigan                  50.000000     49.963334\n",
            "Alaska                    50.000000     49.949341\n",
            "Wisconsin                 50.000000     50.000000\n",
            "Virginia                  50.000000     49.991763\n",
            "Utah                      50.000000     50.000000\n",
            "Tennessee                 50.000000     50.051352\n",
            "South Dakota              50.000000     50.024050\n",
            "South Carolina            50.000000     50.000000\n",
            "Rhode Island              50.000000     50.031626\n",
            "North Dakota              50.000000     49.990924\n",
            "North Carolina            50.000000     49.997306\n",
            "New Hampshire             50.000000     50.010760\n",
            "Nevada                    50.000000     50.030934\n",
            "Wyoming                   50.000000     50.015328\n",
            "Arkansas                  50.000000     50.005661\n",
            "Delaware                  50.000000     49.917355\n",
            "Florida                   50.000000     50.003858\n",
            "Georgia                   50.000000     50.012950\n",
            "Illinois                  49.996009     49.976056\n",
            "Louisiana                 49.995811     50.000000\n",
            "Missouri                  49.994944     49.979776\n",
            "Kentucky                  49.993191     49.945526\n",
            "Arizona                   49.992841     49.981386\n",
            "Indiana                   49.992819     50.014362\n",
            "New Jersey                49.992518     50.003741\n",
            "New York                  49.992197     50.000709\n",
            "Connecticut               49.991648     50.008352\n",
            "Oregon                    49.991521     50.000000\n",
            "Ohio                      49.991279     50.004360\n",
            "Massachusetts             49.990729     50.000000\n",
            "Kansas                    49.990470     50.003177\n",
            "Country Of Mexico         49.989480     49.873764\n",
            "Colorado                  49.988632     49.982949\n",
            "Maryland                  49.987255     49.983006\n",
            "Maine                     49.985184     50.010583\n",
            "Iowa                      49.984526     50.003868\n",
            "Texas                     49.978086     50.012986\n",
            "California                49.972056     50.001909\n",
            "Alabama                   49.968010     50.000000\n",
            "Pennsylvania              49.950766     49.991000\n",
            "District Of Columbia      49.949408     49.996108\n",
            "Oklahoma                  49.944800     49.997095\n",
            "Washington                49.896050     50.000000\n",
            "Hawaii                    49.891497     50.000000\n",
            "Idaho                     49.890591     50.000000\n",
            "New Mexico                49.887798     50.014025\n",
            "Minnesota                 49.100618     50.730748\n"
          ]
        }
      ],
      "source": [
        "# Total number of rows per state\n",
        "total_by_state = pollution[\"State\"].value_counts()\n",
        "\n",
        "# Missing values per state for SO2 & CO\n",
        "missing_so2 = pollution[\"SO2 AQI\"].isnull().groupby(pollution[\"State\"]).sum()\n",
        "missing_co = pollution[\"CO AQI\"].isnull().groupby(pollution[\"State\"]).sum()\n",
        "\n",
        "# Convert to percentage\n",
        "missing_so2_pct = (missing_so2 / total_by_state * 100).fillna(0)\n",
        "missing_co_pct = (missing_co / total_by_state * 100).fillna(0)\n",
        "\n",
        "# Print sorted missing data percentages\n",
        "print(pd.DataFrame({\"SO2 Missing %\": missing_so2_pct, \"CO Missing %\": missing_co_pct}).sort_values(by=\"SO2 Missing %\", ascending=False))\n"
      ]
    },
    {
      "cell_type": "code",
      "execution_count": 345,
      "metadata": {},
      "outputs": [
        {
          "name": "stdout",
          "output_type": "stream",
          "text": [
            "Index(['Unnamed: 0', 'State Code', 'County Code', 'Site Num', 'Address',\n",
            "       'State', 'County', 'City', 'Date Local', 'NO2 Units', 'NO2 Mean',\n",
            "       'NO2 1st Max Value', 'NO2 1st Max Hour', 'NO2 AQI', 'O3 Units',\n",
            "       'O3 Mean', 'O3 1st Max Value', 'O3 1st Max Hour', 'O3 AQI', 'SO2 Units',\n",
            "       'SO2 Mean', 'SO2 1st Max Value', 'SO2 1st Max Hour', 'SO2 AQI',\n",
            "       'CO Units', 'CO Mean', 'CO 1st Max Value', 'CO 1st Max Hour', 'CO AQI',\n",
            "       'Year'],\n",
            "      dtype='object')\n"
          ]
        }
      ],
      "source": [
        "print(pollution.columns)\n",
        "# printing the columns of the dataset"
      ]
    },
    {
      "cell_type": "code",
      "execution_count": 346,
      "metadata": {},
      "outputs": [
        {
          "name": "stdout",
          "output_type": "stream",
          "text": [
            "Total monitoring stations: 110\n",
            "Stations measuring SO2: 110 (100.00%)\n",
            "Stations measuring CO: 110 (100.00%)\n"
          ]
        }
      ],
      "source": [
        "# Count total number of unique stations\n",
        "total_stations = pollution[\"Site Num\"].nunique()\n",
        "\n",
        "# Count stations with at least one SO2 or CO measurement\n",
        "stations_with_so2 = pollution.loc[pollution[\"SO2 AQI\"].notnull(), \"Site Num\"].nunique()\n",
        "stations_with_co = pollution.loc[pollution[\"CO AQI\"].notnull(), \"Site Num\"].nunique()\n",
        "\n",
        "print(f\"Total monitoring stations: {total_stations}\")\n",
        "print(f\"Stations measuring SO2: {stations_with_so2} ({(stations_with_so2/total_stations)*100:.2f}%)\")\n",
        "print(f\"Stations measuring CO: {stations_with_co} ({(stations_with_co/total_stations)*100:.2f}%)\")\n",
        "\n",
        "# Checking whether some stations are even recording CO2 or SO2 values"
      ]
    },
    {
      "cell_type": "code",
      "execution_count": 347,
      "metadata": {},
      "outputs": [
        {
          "data": {
            "image/png": "[encoded data removed]",
            "text/plain": [
              "<Figure size 1000x500 with 1 Axes>"
            ]
          },
          "metadata": {},
          "output_type": "display_data"
        }
      ],
      "source": [
        "# Extract Year\n",
        "pollution[\"Year\"] = pd.to_datetime(pollution[\"Date Local\"]).dt.year\n",
        "\n",
        "# Calculate missing percentages per year\n",
        "missing_so2_year = pollution[\"SO2 AQI\"].isnull().groupby(pollution[\"Year\"]).mean() * 100\n",
        "missing_co_year = pollution[\"CO AQI\"].isnull().groupby(pollution[\"Year\"]).mean() * 100\n",
        "\n",
        "# Plot missing data over time\n",
        "plt.figure(figsize=(10,5))\n",
        "plt.plot(missing_so2_year.index, missing_so2_year.values, marker=\"o\", label=\"SO2 Missing %\")\n",
        "plt.plot(missing_co_year.index, missing_co_year.values, marker=\"s\", label=\"CO Missing %\", color=\"red\")\n",
        "plt.xlabel(\"Year\")\n",
        "plt.ylabel(\"Missing Data (%)\")\n",
        "plt.title(\"SO2 & CO Missing Data Over Time (Yearly)\")\n",
        "plt.legend()\n",
        "plt.grid()\n",
        "plt.show()\n"
      ]
    },
    {
      "cell_type": "markdown",
      "metadata": {},
      "source": [
        "Consistently missing data, and 2009 is an anomaly, which must be investigated further. "
      ]
    },
    {
      "cell_type": "code",
      "execution_count": 348,
      "metadata": {},
      "outputs": [
        {
          "data": {
            "text/plain": [
              "<Axes: xlabel='SO2 AQI', ylabel='NO2 AQI'>"
            ]
          },
          "execution_count": 348,
          "metadata": {},
          "output_type": "execute_result"
        },
        {
          "data": {
            "image/png": "[encoded data removed]",
            "text/plain": [
              "<Figure size 640x480 with 1 Axes>"
            ]
          },
          "metadata": {},
          "output_type": "display_data"
        }
      ],
      "source": [
        "# Check if missing values depend on other factors\n",
        "sns.boxplot(x=pollution[\"SO2 AQI\"].isnull(), y=pollution[\"NO2 AQI\"])"
      ]
    },
    {
      "cell_type": "markdown",
      "metadata": {},
      "source": [
        "Missing data for CO2 and SO2 is not random, perhaps systematic because each state is missing between 49.02% to 50.02%"
      ]
    },
    {
      "cell_type": "code",
      "execution_count": 349,
      "metadata": {},
      "outputs": [
        {
          "name": "stdout",
          "output_type": "stream",
          "text": [
            "SO2 AQI    49.924646\n",
            "CO AQI     50.007199\n",
            "dtype: float64\n"
          ]
        }
      ],
      "source": [
        "anomaly_year = 2009  # Investigating the anomaly to see why it had happened.\n",
        "anomaly_check = pollution[pollution[\"Year\"] == anomaly_year].isnull().mean() * 100\n",
        "print(anomaly_check[[\"SO2 AQI\", \"CO AQI\"]])\n"
      ]
    },
    {
      "cell_type": "markdown",
      "metadata": {},
      "source": [
        "Even though it is an anomaly year, its still close to the original values backing the point that the missing data pattern is systematic."
      ]
    },
    {
      "cell_type": "code",
      "execution_count": 350,
      "metadata": {},
      "outputs": [
        {
          "name": "stdout",
          "output_type": "stream",
          "text": [
            "            SO2 AQI     CO AQI\n",
            "Site Num                      \n",
            "5005      48.222222  50.074074\n",
            "1002      48.524845  50.000000\n",
            "4003      49.793673  50.000000\n",
            "1025      49.795362  50.000000\n",
            "4         49.906933  50.023267\n",
            "...             ...        ...\n",
            "124       50.000000  50.000000\n",
            "133       50.000000  50.000000\n",
            "306       50.000000  50.000000\n",
            "37        50.000000  50.000000\n",
            "9997      50.000000  50.000000\n",
            "\n",
            "[61 rows x 2 columns]\n"
          ]
        }
      ],
      "source": [
        "# Get missing percentage per station for the anomaly year\n",
        "missing_by_station_anomaly = pollution[pollution[\"Year\"] == anomaly_year].groupby(\"Site Num\")[[\"SO2 AQI\", \"CO AQI\"]].apply(lambda x: x.isnull().mean() * 100)\n",
        "\n",
        "print(missing_by_station_anomaly.sort_values(\"SO2 AQI\"))\n",
        "# Checking which stations were affected"
      ]
    },
    {
      "cell_type": "markdown",
      "metadata": {},
      "source": [
        "Now next steps can be =  exclude SO₂ and CO from your analysis and focus on pollutants with complete data\n",
        "\n",
        "or Only analyze the rows where both SO₂ and CO have valid values but 50% missing values\n",
        "\n",
        "or Replace missing SO₂ and CO values with the mean/median for that state or station\n",
        "\n",
        "or Use time-based interpolation to estimate missing SO₂ and CO values based on nearby dates."
      ]
    },
    {
      "cell_type": "code",
      "execution_count": 351,
      "metadata": {},
      "outputs": [
        {
          "data": {
            "application/vnd.microsoft.datawrangler.viewer.v0+json": {
              "columns": [
                {
                  "name": "index",
                  "rawType": "object",
                  "type": "string"
                },
                {
                  "name": "CO AQI",
                  "rawType": "float64",
                  "type": "float"
                },
                {
                  "name": "SO2 AQI",
                  "rawType": "float64",
                  "type": "float"
                }
              ],
              "conversionMethod": "pd.DataFrame",
              "ref": "ad5f7b38-c3fc-409c-a9dc-b29dfe50a3fa",
              "rows": [
                [
                  "count",
                  "873338.0",
                  "873754.0"
                ],
                [
                  "mean",
                  "5.996594674684944",
                  "7.115944533587257"
                ],
                [
                  "std",
                  "5.851836305184778",
                  "11.937472743627849"
                ],
                [
                  "min",
                  "0.0",
                  "0.0"
                ],
                [
                  "25%",
                  "2.0",
                  "1.0"
                ],
                [
                  "50%",
                  "5.0",
                  "3.0"
                ],
                [
                  "75%",
                  "8.0",
                  "9.0"
                ],
                [
                  "max",
                  "201.0",
                  "200.0"
                ]
              ],
              "shape": {
                "columns": 2,
                "rows": 8
              }
            },
            "text/html": [
              "<div>\n",
              "<style scoped>\n",
              "    .dataframe tbody tr th:only-of-type {\n",
              "        vertical-align: middle;\n",
              "    }\n",
              "\n",
              "    .dataframe tbody tr th {\n",
              "        vertical-align: top;\n",
              "    }\n",
              "\n",
              "    .dataframe thead th {\n",
              "        text-align: right;\n",
              "    }\n",
              "</style>\n",
              "<table border=\"1\" class=\"dataframe\">\n",
              "  <thead>\n",
              "    <tr style=\"text-align: right;\">\n",
              "      <th></th>\n",
              "      <th>CO AQI</th>\n",
              "      <th>SO2 AQI</th>\n",
              "    </tr>\n",
              "  </thead>\n",
              "  <tbody>\n",
              "    <tr>\n",
              "      <th>count</th>\n",
              "      <td>873338.000000</td>\n",
              "      <td>873754.000000</td>\n",
              "    </tr>\n",
              "    <tr>\n",
              "      <th>mean</th>\n",
              "      <td>5.996595</td>\n",
              "      <td>7.115945</td>\n",
              "    </tr>\n",
              "    <tr>\n",
              "      <th>std</th>\n",
              "      <td>5.851836</td>\n",
              "      <td>11.937473</td>\n",
              "    </tr>\n",
              "    <tr>\n",
              "      <th>min</th>\n",
              "      <td>0.000000</td>\n",
              "      <td>0.000000</td>\n",
              "    </tr>\n",
              "    <tr>\n",
              "      <th>25%</th>\n",
              "      <td>2.000000</td>\n",
              "      <td>1.000000</td>\n",
              "    </tr>\n",
              "    <tr>\n",
              "      <th>50%</th>\n",
              "      <td>5.000000</td>\n",
              "      <td>3.000000</td>\n",
              "    </tr>\n",
              "    <tr>\n",
              "      <th>75%</th>\n",
              "      <td>8.000000</td>\n",
              "      <td>9.000000</td>\n",
              "    </tr>\n",
              "    <tr>\n",
              "      <th>max</th>\n",
              "      <td>201.000000</td>\n",
              "      <td>200.000000</td>\n",
              "    </tr>\n",
              "  </tbody>\n",
              "</table>\n",
              "</div>"
            ],
            "text/plain": [
              "              CO AQI        SO2 AQI\n",
              "count  873338.000000  873754.000000\n",
              "mean        5.996595       7.115945\n",
              "std         5.851836      11.937473\n",
              "min         0.000000       0.000000\n",
              "25%         2.000000       1.000000\n",
              "50%         5.000000       3.000000\n",
              "75%         8.000000       9.000000\n",
              "max       201.000000     200.000000"
            ]
          },
          "execution_count": 351,
          "metadata": {},
          "output_type": "execute_result"
        }
      ],
      "source": [
        "pollution[[\"CO AQI\", \"SO2 AQI\"]].describe()\n",
        "# checking for the values "
      ]
    },
    {
      "cell_type": "code",
      "execution_count": 352,
      "metadata": {},
      "outputs": [
        {
          "name": "stdout",
          "output_type": "stream",
          "text": [
            "CO AQI      1.954816\n",
            "SO2 AQI    10.987478\n",
            "dtype: float64\n"
          ]
        }
      ],
      "source": [
        "zero_percent = (pollution[[\"CO AQI\", \"SO2 AQI\"]] == 0).mean() * 100\n",
        "print(zero_percent)\n",
        "# checking what percentage of the aqi's are 0 if there are any"
      ]
    },
    {
      "cell_type": "code",
      "execution_count": 353,
      "metadata": {},
      "outputs": [
        {
          "name": "stdout",
          "output_type": "stream",
          "text": [
            "CO AQI      34144\n",
            "SO2 AQI    191914\n",
            "dtype: int64\n"
          ]
        }
      ],
      "source": [
        "zero_counts = (pollution[[\"CO AQI\", \"SO2 AQI\"]] == 0).sum()\n",
        "print(zero_counts)\n",
        "# showing exactly how many times 0 appears for AQI's"
      ]
    },
    {
      "cell_type": "code",
      "execution_count": 354,
      "metadata": {},
      "outputs": [
        {
          "data": {
            "application/vnd.microsoft.datawrangler.viewer.v0+json": {
              "columns": [
                {
                  "name": "Year",
                  "rawType": "int32",
                  "type": "integer"
                },
                {
                  "name": "CO AQI",
                  "rawType": "int64",
                  "type": "integer"
                },
                {
                  "name": "SO2 AQI",
                  "rawType": "int64",
                  "type": "integer"
                }
              ],
              "conversionMethod": "pd.DataFrame",
              "ref": "b41c8fa8-98f4-44c2-bb5e-f00e1ddf950f",
              "rows": [
                [
                  "2000",
                  "1747",
                  "3051"
                ],
                [
                  "2001",
                  "1950",
                  "3158"
                ],
                [
                  "2002",
                  "2798",
                  "4873"
                ],
                [
                  "2003",
                  "1942",
                  "4150"
                ],
                [
                  "2004",
                  "1434",
                  "3253"
                ],
                [
                  "2005",
                  "2775",
                  "3578"
                ],
                [
                  "2006",
                  "2646",
                  "4343"
                ],
                [
                  "2007",
                  "2985",
                  "5924"
                ],
                [
                  "2008",
                  "2831",
                  "8143"
                ],
                [
                  "2009",
                  "1516",
                  "10126"
                ],
                [
                  "2010",
                  "1419",
                  "12166"
                ],
                [
                  "2011",
                  "2116",
                  "19814"
                ],
                [
                  "2012",
                  "1659",
                  "23376"
                ],
                [
                  "2013",
                  "2665",
                  "26716"
                ],
                [
                  "2014",
                  "1893",
                  "25723"
                ],
                [
                  "2015",
                  "1550",
                  "28281"
                ],
                [
                  "2016",
                  "218",
                  "5239"
                ]
              ],
              "shape": {
                "columns": 2,
                "rows": 17
              }
            },
            "text/html": [
              "<div>\n",
              "<style scoped>\n",
              "    .dataframe tbody tr th:only-of-type {\n",
              "        vertical-align: middle;\n",
              "    }\n",
              "\n",
              "    .dataframe tbody tr th {\n",
              "        vertical-align: top;\n",
              "    }\n",
              "\n",
              "    .dataframe thead th {\n",
              "        text-align: right;\n",
              "    }\n",
              "</style>\n",
              "<table border=\"1\" class=\"dataframe\">\n",
              "  <thead>\n",
              "    <tr style=\"text-align: right;\">\n",
              "      <th></th>\n",
              "      <th>CO AQI</th>\n",
              "      <th>SO2 AQI</th>\n",
              "    </tr>\n",
              "    <tr>\n",
              "      <th>Year</th>\n",
              "      <th></th>\n",
              "      <th></th>\n",
              "    </tr>\n",
              "  </thead>\n",
              "  <tbody>\n",
              "    <tr>\n",
              "      <th>2000</th>\n",
              "      <td>1747</td>\n",
              "      <td>3051</td>\n",
              "    </tr>\n",
              "    <tr>\n",
              "      <th>2001</th>\n",
              "      <td>1950</td>\n",
              "      <td>3158</td>\n",
              "    </tr>\n",
              "    <tr>\n",
              "      <th>2002</th>\n",
              "      <td>2798</td>\n",
              "      <td>4873</td>\n",
              "    </tr>\n",
              "    <tr>\n",
              "      <th>2003</th>\n",
              "      <td>1942</td>\n",
              "      <td>4150</td>\n",
              "    </tr>\n",
              "    <tr>\n",
              "      <th>2004</th>\n",
              "      <td>1434</td>\n",
              "      <td>3253</td>\n",
              "    </tr>\n",
              "    <tr>\n",
              "      <th>2005</th>\n",
              "      <td>2775</td>\n",
              "      <td>3578</td>\n",
              "    </tr>\n",
              "    <tr>\n",
              "      <th>2006</th>\n",
              "      <td>2646</td>\n",
              "      <td>4343</td>\n",
              "    </tr>\n",
              "    <tr>\n",
              "      <th>2007</th>\n",
              "      <td>2985</td>\n",
              "      <td>5924</td>\n",
              "    </tr>\n",
              "    <tr>\n",
              "      <th>2008</th>\n",
              "      <td>2831</td>\n",
              "      <td>8143</td>\n",
              "    </tr>\n",
              "    <tr>\n",
              "      <th>2009</th>\n",
              "      <td>1516</td>\n",
              "      <td>10126</td>\n",
              "    </tr>\n",
              "    <tr>\n",
              "      <th>2010</th>\n",
              "      <td>1419</td>\n",
              "      <td>12166</td>\n",
              "    </tr>\n",
              "    <tr>\n",
              "      <th>2011</th>\n",
              "      <td>2116</td>\n",
              "      <td>19814</td>\n",
              "    </tr>\n",
              "    <tr>\n",
              "      <th>2012</th>\n",
              "      <td>1659</td>\n",
              "      <td>23376</td>\n",
              "    </tr>\n",
              "    <tr>\n",
              "      <th>2013</th>\n",
              "      <td>2665</td>\n",
              "      <td>26716</td>\n",
              "    </tr>\n",
              "    <tr>\n",
              "      <th>2014</th>\n",
              "      <td>1893</td>\n",
              "      <td>25723</td>\n",
              "    </tr>\n",
              "    <tr>\n",
              "      <th>2015</th>\n",
              "      <td>1550</td>\n",
              "      <td>28281</td>\n",
              "    </tr>\n",
              "    <tr>\n",
              "      <th>2016</th>\n",
              "      <td>218</td>\n",
              "      <td>5239</td>\n",
              "    </tr>\n",
              "  </tbody>\n",
              "</table>\n",
              "</div>"
            ],
            "text/plain": [
              "      CO AQI  SO2 AQI\n",
              "Year                 \n",
              "2000    1747     3051\n",
              "2001    1950     3158\n",
              "2002    2798     4873\n",
              "2003    1942     4150\n",
              "2004    1434     3253\n",
              "2005    2775     3578\n",
              "2006    2646     4343\n",
              "2007    2985     5924\n",
              "2008    2831     8143\n",
              "2009    1516    10126\n",
              "2010    1419    12166\n",
              "2011    2116    19814\n",
              "2012    1659    23376\n",
              "2013    2665    26716\n",
              "2014    1893    25723\n",
              "2015    1550    28281\n",
              "2016     218     5239"
            ]
          },
          "execution_count": 354,
          "metadata": {},
          "output_type": "execute_result"
        }
      ],
      "source": [
        "pollution.groupby(\"Year\")[[\"CO AQI\", \"SO2 AQI\"]].apply(lambda x: (x == 0).sum())\n",
        "# checking for how many zero values there are per year"
      ]
    },
    {
      "cell_type": "code",
      "execution_count": 355,
      "metadata": {},
      "outputs": [
        {
          "data": {
            "image/png": "[encoded data removed]",
            "text/plain": [
              "<Figure size 1000x500 with 1 Axes>"
            ]
          },
          "metadata": {},
          "output_type": "display_data"
        }
      ],
      "source": [
        "plt.figure(figsize=(10,5))\n",
        "sns.histplot(pollution[\"SO2 AQI\"], bins=50, kde=True)\n",
        "plt.axvline(0, color=\"red\", linestyle=\"dashed\", label=\"Zero SO₂ AQI\")\n",
        "plt.legend()\n",
        "plt.title(\"Distribution of SO₂ AQI Values\")\n",
        "plt.show()\n",
        "# trying to see whether the zeros are missing data or valid data"
      ]
    },
    {
      "cell_type": "markdown",
      "metadata": {},
      "source": [
        "A sudden spike at 0 suggests that some stations might have defaulted to 0 as SO₂ rarely stays exactly at 0 for extended periods across multiple locations, most likely the AQI of SO2 is not valid."
      ]
    },
    {
      "cell_type": "code",
      "execution_count": 356,
      "metadata": {},
      "outputs": [],
      "source": [
        "pollution[\"SO2 AQI\"] = pollution[\"SO2 AQI\"].replace(0, np.nan)\n",
        "#  replace all SO₂ AQI = 0 values with NaN\n",
        "# Avoids misleading statistics, ensures accurate missing data detection."
      ]
    },
    {
      "cell_type": "markdown",
      "metadata": {
        "id": "ZY3l0-AxO93d"
      },
      "source": [
        "---"
      ]
    },
    {
      "cell_type": "markdown",
      "metadata": {
        "id": "uFQo3ycuO-v6"
      },
      "source": [
        "# Section 2"
      ]
    },
    {
      "cell_type": "markdown",
      "metadata": {},
      "source": [
        "Section 2 content"
      ]
    },
    {
      "cell_type": "code",
      "execution_count": null,
      "metadata": {},
      "outputs": [],
      "source": []
    },
    {
      "cell_type": "markdown",
      "metadata": {},
      "source": [
        "---"
      ]
    },
    {
      "cell_type": "markdown",
      "metadata": {},
      "source": [
        "NOTE"
      ]
    },
    {
      "cell_type": "markdown",
      "metadata": {},
      "source": [
        "* You may add as many sections as you want, as long as it supports your project workflow.\n",
        "* All notebook's cells should be run top-down (you can't create a dynamic wherein a given point you need to go back to a previous cell to execute some task, like go back to a previous cell and refresh a variable content)"
      ]
    },
    {
      "cell_type": "markdown",
      "metadata": {},
      "source": [
        "---"
      ]
    },
    {
      "cell_type": "markdown",
      "metadata": {
        "id": "ltNetd085qHf"
      },
      "source": [
        "# Push files to Repo"
      ]
    },
    {
      "cell_type": "markdown",
      "metadata": {},
      "source": [
        "* In cases where you don't need to push files to Repo, you may replace this section with \"Conclusions and Next Steps\" and state your conclusions and next steps."
      ]
    },
    {
      "cell_type": "code",
      "execution_count": null,
      "metadata": {
        "id": "aKlnIozA4eQO",
        "outputId": "fd09bc1f-adb1-4511-f6ce-492a6af570c0"
      },
      "outputs": [],
      "source": [
        "import os\n",
        "try:\n",
        "  # create your folder here\n",
        "  # os.makedirs(name='')\n",
        "except Exception as e:\n",
        "  print(e)\n"
      ]
    }
  ],
  "metadata": {
    "accelerator": "GPU",
    "colab": {
      "name": "Data Practitioner Jupyter Notebook.ipynb",
      "provenance": [],
      "toc_visible": true
    },
    "kernelspec": {
      "display_name": ".venv",
      "language": "python",
      "name": "python3"
    },
    "language_info": {
      "codemirror_mode": {
        "name": "ipython",
        "version": 3
      },
      "file_extension": ".py",
      "mimetype": "text/x-python",
      "name": "python",
      "nbconvert_exporter": "python",
      "pygments_lexer": "ipython3",
      "version": "3.12.8"
    },
    "orig_nbformat": 2
  },
  "nbformat": 4,
  "nbformat_minor": 2
}
